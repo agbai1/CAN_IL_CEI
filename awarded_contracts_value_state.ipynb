{
 "cells": [
  {
   "cell_type": "code",
   "execution_count": 50,
   "id": "cd9a2689-fe9e-4f2d-8553-3231a0efae95",
   "metadata": {
    "tags": []
   },
   "outputs": [],
   "source": [
    "#import libraries\n",
    "import numpy as np\n",
    "import pandas as pd\n",
    "import geopandas as gpd\n",
    "import fiona\n",
    "import folium\n",
    "import matplotlib.pyplot as plt\n",
    "import seaborn as sns"
   ]
  },
  {
   "cell_type": "code",
   "execution_count": 155,
   "id": "467ed36b-37f6-4424-80f8-f254a9bc4fe5",
   "metadata": {
    "tags": []
   },
   "outputs": [
    {
     "data": {
      "text/html": [
       "<div>\n",
       "<style scoped>\n",
       "    .dataframe tbody tr th:only-of-type {\n",
       "        vertical-align: middle;\n",
       "    }\n",
       "\n",
       "    .dataframe tbody tr th {\n",
       "        vertical-align: top;\n",
       "    }\n",
       "\n",
       "    .dataframe thead th {\n",
       "        text-align: right;\n",
       "    }\n",
       "</style>\n",
       "<table border=\"1\" class=\"dataframe\">\n",
       "  <thead>\n",
       "    <tr style=\"text-align: right;\">\n",
       "      <th></th>\n",
       "      <th>Contract / Blanket #</th>\n",
       "      <th>Bid Solicitation #</th>\n",
       "      <th>Description</th>\n",
       "      <th>Vendor</th>\n",
       "      <th>Type Code</th>\n",
       "      <th>Dollars Spent to Date</th>\n",
       "      <th>Organization</th>\n",
       "      <th>Status</th>\n",
       "      <th>Begin Date</th>\n",
       "      <th>End Date</th>\n",
       "    </tr>\n",
       "  </thead>\n",
       "  <tbody>\n",
       "    <tr>\n",
       "      <th>0</th>\n",
       "      <td>CIB6354390</td>\n",
       "      <td>NaN</td>\n",
       "      <td>Prescription Drugs</td>\n",
       "      <td>caremarkpcs health, l.l.c.</td>\n",
       "      <td>B</td>\n",
       "      <td>$0.00</td>\n",
       "      <td>CMS - Central Management Services</td>\n",
       "      <td>3PS - Sent</td>\n",
       "      <td>07/01/2015</td>\n",
       "      <td>06/30/2024</td>\n",
       "    </tr>\n",
       "    <tr>\n",
       "      <th>1</th>\n",
       "      <td>CIB5736630</td>\n",
       "      <td>NaN</td>\n",
       "      <td>ConnectYourCare - Flexible Spending</td>\n",
       "      <td>connectyourcare, llc</td>\n",
       "      <td>A</td>\n",
       "      <td>$0.00</td>\n",
       "      <td>CMS - Central Management Services</td>\n",
       "      <td>3PS - Sent</td>\n",
       "      <td>07/01/2019</td>\n",
       "      <td>06/30/2023</td>\n",
       "    </tr>\n",
       "    <tr>\n",
       "      <th>2</th>\n",
       "      <td>23-563WCC-WCC56-P-39787</td>\n",
       "      <td>NaN</td>\n",
       "      <td>Sole Source- WCRI CompScope Reports 23</td>\n",
       "      <td>wcri</td>\n",
       "      <td>D</td>\n",
       "      <td>$0.00</td>\n",
       "      <td>WCC - Illinois Worker's Compensation Commission</td>\n",
       "      <td>3PS - Sent</td>\n",
       "      <td>08/15/2022</td>\n",
       "      <td>06/30/2023</td>\n",
       "    </tr>\n",
       "  </tbody>\n",
       "</table>\n",
       "</div>"
      ],
      "text/plain": [
       "      Contract / Blanket #  Bid Solicitation #  \\\n",
       "0               CIB6354390                 NaN   \n",
       "1               CIB5736630                 NaN   \n",
       "2  23-563WCC-WCC56-P-39787                 NaN   \n",
       "\n",
       "                              Description                      Vendor  \\\n",
       "0                      Prescription Drugs  caremarkpcs health, l.l.c.   \n",
       "1     ConnectYourCare - Flexible Spending        connectyourcare, llc   \n",
       "2  Sole Source- WCRI CompScope Reports 23                        wcri   \n",
       "\n",
       "  Type Code Dollars Spent to Date  \\\n",
       "0         B                 $0.00   \n",
       "1         A                 $0.00   \n",
       "2         D                 $0.00   \n",
       "\n",
       "                                      Organization      Status  Begin Date  \\\n",
       "0                CMS - Central Management Services  3PS - Sent  07/01/2015   \n",
       "1                CMS - Central Management Services  3PS - Sent  07/01/2019   \n",
       "2  WCC - Illinois Worker's Compensation Commission  3PS - Sent  08/15/2022   \n",
       "\n",
       "     End Date  \n",
       "0  06/30/2024  \n",
       "1  06/30/2023  \n",
       "2  06/30/2023  "
      ]
     },
     "execution_count": 155,
     "metadata": {},
     "output_type": "execute_result"
    }
   ],
   "source": [
    "# Read in contract  csv file\n",
    "contract_data = pd.read_csv(\"../IL_CEI/can-summer-2023/data/raw/contracts/illinois_bidbuy_contracts_as_of_20230614.csv\")\n",
    "# make the company name lower case\n",
    "contract_data[\"Vendor\"] = contract_data.Vendor.str.lower()\n",
    "contract_data.head(3)"
   ]
  },
  {
   "cell_type": "code",
   "execution_count": 156,
   "id": "abfe9cef-ec9e-420e-8681-71668429a677",
   "metadata": {
    "tags": []
   },
   "outputs": [
    {
     "data": {
      "text/html": [
       "<div>\n",
       "<style scoped>\n",
       "    .dataframe tbody tr th:only-of-type {\n",
       "        vertical-align: middle;\n",
       "    }\n",
       "\n",
       "    .dataframe tbody tr th {\n",
       "        vertical-align: top;\n",
       "    }\n",
       "\n",
       "    .dataframe thead th {\n",
       "        text-align: right;\n",
       "    }\n",
       "</style>\n",
       "<table border=\"1\" class=\"dataframe\">\n",
       "  <thead>\n",
       "    <tr style=\"text-align: right;\">\n",
       "      <th></th>\n",
       "      <th>Contract / Blanket #</th>\n",
       "      <th>Bid Solicitation #</th>\n",
       "      <th>Description</th>\n",
       "      <th>Vendor</th>\n",
       "      <th>Type Code</th>\n",
       "      <th>Dollars Spent to Date</th>\n",
       "      <th>Organization</th>\n",
       "      <th>Status</th>\n",
       "      <th>Begin Date</th>\n",
       "      <th>End Date</th>\n",
       "      <th>Dollars Split</th>\n",
       "    </tr>\n",
       "  </thead>\n",
       "  <tbody>\n",
       "    <tr>\n",
       "      <th>0</th>\n",
       "      <td>CIB6354390</td>\n",
       "      <td>NaN</td>\n",
       "      <td>Prescription Drugs</td>\n",
       "      <td>caremarkpcs health, l.l.c.</td>\n",
       "      <td>B</td>\n",
       "      <td>0.00</td>\n",
       "      <td>CMS - Central Management Services</td>\n",
       "      <td>3PS - Sent</td>\n",
       "      <td>07/01/2015</td>\n",
       "      <td>06/30/2024</td>\n",
       "      <td></td>\n",
       "    </tr>\n",
       "    <tr>\n",
       "      <th>1</th>\n",
       "      <td>CIB5736630</td>\n",
       "      <td>NaN</td>\n",
       "      <td>ConnectYourCare - Flexible Spending</td>\n",
       "      <td>connectyourcare, llc</td>\n",
       "      <td>A</td>\n",
       "      <td>0.00</td>\n",
       "      <td>CMS - Central Management Services</td>\n",
       "      <td>3PS - Sent</td>\n",
       "      <td>07/01/2019</td>\n",
       "      <td>06/30/2023</td>\n",
       "      <td></td>\n",
       "    </tr>\n",
       "    <tr>\n",
       "      <th>2</th>\n",
       "      <td>23-563WCC-WCC56-P-39787</td>\n",
       "      <td>NaN</td>\n",
       "      <td>Sole Source- WCRI CompScope Reports 23</td>\n",
       "      <td>wcri</td>\n",
       "      <td>D</td>\n",
       "      <td>0.00</td>\n",
       "      <td>WCC - Illinois Worker's Compensation Commission</td>\n",
       "      <td>3PS - Sent</td>\n",
       "      <td>08/15/2022</td>\n",
       "      <td>06/30/2023</td>\n",
       "      <td></td>\n",
       "    </tr>\n",
       "  </tbody>\n",
       "</table>\n",
       "</div>"
      ],
      "text/plain": [
       "      Contract / Blanket #  Bid Solicitation #  \\\n",
       "0               CIB6354390                 NaN   \n",
       "1               CIB5736630                 NaN   \n",
       "2  23-563WCC-WCC56-P-39787                 NaN   \n",
       "\n",
       "                              Description                      Vendor  \\\n",
       "0                      Prescription Drugs  caremarkpcs health, l.l.c.   \n",
       "1     ConnectYourCare - Flexible Spending        connectyourcare, llc   \n",
       "2  Sole Source- WCRI CompScope Reports 23                        wcri   \n",
       "\n",
       "  Type Code Dollars Spent to Date  \\\n",
       "0         B                  0.00   \n",
       "1         A                  0.00   \n",
       "2         D                  0.00   \n",
       "\n",
       "                                      Organization      Status  Begin Date  \\\n",
       "0                CMS - Central Management Services  3PS - Sent  07/01/2015   \n",
       "1                CMS - Central Management Services  3PS - Sent  07/01/2019   \n",
       "2  WCC - Illinois Worker's Compensation Commission  3PS - Sent  08/15/2022   \n",
       "\n",
       "     End Date Dollars Split  \n",
       "0  06/30/2024                \n",
       "1  06/30/2023                \n",
       "2  06/30/2023                "
      ]
     },
     "execution_count": 156,
     "metadata": {},
     "output_type": "execute_result"
    }
   ],
   "source": [
    "# Split County Column for an easy merge with shape_data dataframe by removing the $ sign\n",
    "contract_data[[\"Dollars Split\", \"Dollars Spent to Date\"]] = contract_data[\"Dollars Spent to Date\"].str.split('$', expand=True).astype(str)\n",
    "contract_data.head(3)"
   ]
  },
  {
   "cell_type": "code",
   "execution_count": 157,
   "id": "11507022-e20a-4d49-a3c7-9d59523857a9",
   "metadata": {
    "tags": []
   },
   "outputs": [],
   "source": [
    "#remove the , in the Dollars Spent to Date\n",
    "contract_data['Dollars Spent to Date'] = contract_data['Dollars Spent to Date'].str.replace(',', '')"
   ]
  },
  {
   "cell_type": "code",
   "execution_count": 158,
   "id": "6bf4fbde-6dae-4dde-a9f7-c531097ee028",
   "metadata": {
    "tags": []
   },
   "outputs": [],
   "source": [
    "#convert the Dollars Spent to Date to float\n",
    "contract_data['Dollars Spent to Date'] = contract_data['Dollars Spent to Date'].astype(float)"
   ]
  },
  {
   "cell_type": "code",
   "execution_count": 159,
   "id": "ba91f09c-1d93-4a38-90ce-afeeb12ab34a",
   "metadata": {
    "tags": []
   },
   "outputs": [
    {
     "data": {
      "text/plain": [
       "count    1.376000e+03\n",
       "mean     9.647753e+05\n",
       "std      6.617282e+06\n",
       "min      0.000000e+00\n",
       "25%      0.000000e+00\n",
       "50%      0.000000e+00\n",
       "75%      1.685315e+04\n",
       "max      1.549670e+08\n",
       "Name: Dollars Spent to Date, dtype: float64"
      ]
     },
     "execution_count": 159,
     "metadata": {},
     "output_type": "execute_result"
    }
   ],
   "source": [
    "# confirming if things worked\n",
    "type(contract_data['Dollars Spent to Date'][0])\n",
    "\n",
    "contract_data['Dollars Spent to Date'].describe()"
   ]
  },
  {
   "cell_type": "code",
   "execution_count": 160,
   "id": "f903a2c4-6572-49f4-9cbe-c87539315e94",
   "metadata": {
    "tags": []
   },
   "outputs": [
    {
     "data": {
      "text/plain": [
       "count    2.700000e+01\n",
       "mean     4.916781e+07\n",
       "std      1.511657e+08\n",
       "min      0.000000e+00\n",
       "25%      0.000000e+00\n",
       "50%      0.000000e+00\n",
       "75%      4.207790e+05\n",
       "max      6.201873e+08\n",
       "Name: Dollars Spent to Date, dtype: float64"
      ]
     },
     "execution_count": 160,
     "metadata": {},
     "output_type": "execute_result"
    }
   ],
   "source": [
    "#group the total contract by county\n",
    "contract_data_groupby = contract_data.groupby('Organization').sum(numeric_only = True)[['Dollars Spent to Date']].reset_index()\n",
    "contract_data_groupby\n",
    "contract_data_groupby[\"Dollars Spent to Date\"].describe()\n",
    "#contract_data_groupby[\"Dollars Spent to Date\"]"
   ]
  },
  {
   "cell_type": "code",
   "execution_count": 161,
   "id": "f09ce48f-f834-4e0b-8981-5da483d358fe",
   "metadata": {
    "tags": []
   },
   "outputs": [
    {
     "data": {
      "text/html": [
       "<div>\n",
       "<style scoped>\n",
       "    .dataframe tbody tr th:only-of-type {\n",
       "        vertical-align: middle;\n",
       "    }\n",
       "\n",
       "    .dataframe tbody tr th {\n",
       "        vertical-align: top;\n",
       "    }\n",
       "\n",
       "    .dataframe thead th {\n",
       "        text-align: right;\n",
       "    }\n",
       "</style>\n",
       "<table border=\"1\" class=\"dataframe\">\n",
       "  <thead>\n",
       "    <tr style=\"text-align: right;\">\n",
       "      <th></th>\n",
       "      <th>Organization</th>\n",
       "      <th>Dollars Spent to Date</th>\n",
       "    </tr>\n",
       "  </thead>\n",
       "  <tbody>\n",
       "    <tr>\n",
       "      <th>0</th>\n",
       "      <td>ALPLM - Abraham Lincoln Presidential Library a...</td>\n",
       "      <td>0.000000e+00</td>\n",
       "    </tr>\n",
       "    <tr>\n",
       "      <th>24</th>\n",
       "      <td>SBE - State Board of Education</td>\n",
       "      <td>0.000000e+00</td>\n",
       "    </tr>\n",
       "    <tr>\n",
       "      <th>21</th>\n",
       "      <td>LOT - Lottery</td>\n",
       "      <td>0.000000e+00</td>\n",
       "    </tr>\n",
       "    <tr>\n",
       "      <th>19</th>\n",
       "      <td>ICC - Illinois Commerce Commission</td>\n",
       "      <td>0.000000e+00</td>\n",
       "    </tr>\n",
       "    <tr>\n",
       "      <th>18</th>\n",
       "      <td>HFS - Healthcare and Family Services</td>\n",
       "      <td>0.000000e+00</td>\n",
       "    </tr>\n",
       "    <tr>\n",
       "      <th>17</th>\n",
       "      <td>HDA - Housing Development Authority</td>\n",
       "      <td>0.000000e+00</td>\n",
       "    </tr>\n",
       "    <tr>\n",
       "      <th>16</th>\n",
       "      <td>FPR - Department of Financial and Professional...</td>\n",
       "      <td>0.000000e+00</td>\n",
       "    </tr>\n",
       "    <tr>\n",
       "      <th>15</th>\n",
       "      <td>EPA - Environmental Protection Agency</td>\n",
       "      <td>0.000000e+00</td>\n",
       "    </tr>\n",
       "    <tr>\n",
       "      <th>14</th>\n",
       "      <td>EMA - Emergency Management Agency</td>\n",
       "      <td>0.000000e+00</td>\n",
       "    </tr>\n",
       "    <tr>\n",
       "      <th>25</th>\n",
       "      <td>THA - Toll Highway Authority</td>\n",
       "      <td>0.000000e+00</td>\n",
       "    </tr>\n",
       "    <tr>\n",
       "      <th>13</th>\n",
       "      <td>EEC - Executive Ethics Commission</td>\n",
       "      <td>0.000000e+00</td>\n",
       "    </tr>\n",
       "    <tr>\n",
       "      <th>7</th>\n",
       "      <td>DJJ - Department of Juvenile Justice</td>\n",
       "      <td>0.000000e+00</td>\n",
       "    </tr>\n",
       "    <tr>\n",
       "      <th>1</th>\n",
       "      <td>CEI - Commission on Equity and Inclusion</td>\n",
       "      <td>0.000000e+00</td>\n",
       "    </tr>\n",
       "    <tr>\n",
       "      <th>26</th>\n",
       "      <td>WCC - Illinois Worker's Compensation Commission</td>\n",
       "      <td>0.000000e+00</td>\n",
       "    </tr>\n",
       "    <tr>\n",
       "      <th>6</th>\n",
       "      <td>DHS - Human Services</td>\n",
       "      <td>6.670000e+03</td>\n",
       "    </tr>\n",
       "    <tr>\n",
       "      <th>11</th>\n",
       "      <td>DPH - Public Health</td>\n",
       "      <td>4.183600e+04</td>\n",
       "    </tr>\n",
       "    <tr>\n",
       "      <th>8</th>\n",
       "      <td>DNR - Natural Resources</td>\n",
       "      <td>7.737870e+04</td>\n",
       "    </tr>\n",
       "    <tr>\n",
       "      <th>23</th>\n",
       "      <td>REV - Revenue</td>\n",
       "      <td>9.922500e+04</td>\n",
       "    </tr>\n",
       "    <tr>\n",
       "      <th>10</th>\n",
       "      <td>DOT - Transportation</td>\n",
       "      <td>1.116500e+05</td>\n",
       "    </tr>\n",
       "    <tr>\n",
       "      <th>5</th>\n",
       "      <td>DES - Employment Security</td>\n",
       "      <td>1.250000e+05</td>\n",
       "    </tr>\n",
       "    <tr>\n",
       "      <th>22</th>\n",
       "      <td>MIL - Military Affairs</td>\n",
       "      <td>7.165581e+05</td>\n",
       "    </tr>\n",
       "    <tr>\n",
       "      <th>2</th>\n",
       "      <td>CFS - Children and Family Services</td>\n",
       "      <td>2.519096e+06</td>\n",
       "    </tr>\n",
       "    <tr>\n",
       "      <th>9</th>\n",
       "      <td>DOC - Corrections</td>\n",
       "      <td>1.869625e+07</td>\n",
       "    </tr>\n",
       "    <tr>\n",
       "      <th>20</th>\n",
       "      <td>ISP - Illinois State Police</td>\n",
       "      <td>2.454666e+07</td>\n",
       "    </tr>\n",
       "    <tr>\n",
       "      <th>4</th>\n",
       "      <td>CPOGS - CPO Office for General Services</td>\n",
       "      <td>1.632548e+08</td>\n",
       "    </tr>\n",
       "    <tr>\n",
       "      <th>3</th>\n",
       "      <td>CMS - Central Management Services</td>\n",
       "      <td>4.971484e+08</td>\n",
       "    </tr>\n",
       "    <tr>\n",
       "      <th>12</th>\n",
       "      <td>DoIT - Department of Innovation and Technology</td>\n",
       "      <td>6.201873e+08</td>\n",
       "    </tr>\n",
       "  </tbody>\n",
       "</table>\n",
       "</div>"
      ],
      "text/plain": [
       "                                         Organization  Dollars Spent to Date\n",
       "0   ALPLM - Abraham Lincoln Presidential Library a...           0.000000e+00\n",
       "24                     SBE - State Board of Education           0.000000e+00\n",
       "21                                      LOT - Lottery           0.000000e+00\n",
       "19                 ICC - Illinois Commerce Commission           0.000000e+00\n",
       "18               HFS - Healthcare and Family Services           0.000000e+00\n",
       "17                HDA - Housing Development Authority           0.000000e+00\n",
       "16  FPR - Department of Financial and Professional...           0.000000e+00\n",
       "15              EPA - Environmental Protection Agency           0.000000e+00\n",
       "14                  EMA - Emergency Management Agency           0.000000e+00\n",
       "25                       THA - Toll Highway Authority           0.000000e+00\n",
       "13                  EEC - Executive Ethics Commission           0.000000e+00\n",
       "7                DJJ - Department of Juvenile Justice           0.000000e+00\n",
       "1            CEI - Commission on Equity and Inclusion           0.000000e+00\n",
       "26    WCC - Illinois Worker's Compensation Commission           0.000000e+00\n",
       "6                                DHS - Human Services           6.670000e+03\n",
       "11                                DPH - Public Health           4.183600e+04\n",
       "8                             DNR - Natural Resources           7.737870e+04\n",
       "23                                      REV - Revenue           9.922500e+04\n",
       "10                               DOT - Transportation           1.116500e+05\n",
       "5                           DES - Employment Security           1.250000e+05\n",
       "22                             MIL - Military Affairs           7.165581e+05\n",
       "2                  CFS - Children and Family Services           2.519096e+06\n",
       "9                                   DOC - Corrections           1.869625e+07\n",
       "20                        ISP - Illinois State Police           2.454666e+07\n",
       "4             CPOGS - CPO Office for General Services           1.632548e+08\n",
       "3                   CMS - Central Management Services           4.971484e+08\n",
       "12     DoIT - Department of Innovation and Technology           6.201873e+08"
      ]
     },
     "execution_count": 161,
     "metadata": {},
     "output_type": "execute_result"
    }
   ],
   "source": [
    "# \n",
    "\n",
    "contract_data_groupby.sort_values('Dollars Spent to Date', inplace= True)\n",
    "contract_data_groupby"
   ]
  },
  {
   "cell_type": "code",
   "execution_count": null,
   "id": "c6c69c99-79ef-4639-86fe-79da855e46b2",
   "metadata": {},
   "outputs": [],
   "source": [
    "'''\n",
    "Most of the Organizations have spent none of the Contract Value\n",
    "CEI - Commission on Equity and Inclusion\n",
    "'''"
   ]
  },
  {
   "cell_type": "code",
   "execution_count": 162,
   "id": "f336217e-9c70-4634-ada3-4f89f2f23947",
   "metadata": {
    "tags": []
   },
   "outputs": [
    {
     "data": {
      "text/plain": [
       "1327530817.71"
      ]
     },
     "execution_count": 162,
     "metadata": {},
     "output_type": "execute_result"
    }
   ],
   "source": [
    "y = contract_data_groupby[\"Dollars Spent to Date\"].sum()\n",
    "y"
   ]
  },
  {
   "cell_type": "code",
   "execution_count": 163,
   "id": "c0597279-342f-489e-a8ff-450dd9d452b8",
   "metadata": {
    "tags": []
   },
   "outputs": [
    {
     "data": {
      "text/html": [
       "<div>\n",
       "<style scoped>\n",
       "    .dataframe tbody tr th:only-of-type {\n",
       "        vertical-align: middle;\n",
       "    }\n",
       "\n",
       "    .dataframe tbody tr th {\n",
       "        vertical-align: top;\n",
       "    }\n",
       "\n",
       "    .dataframe thead th {\n",
       "        text-align: right;\n",
       "    }\n",
       "</style>\n",
       "<table border=\"1\" class=\"dataframe\">\n",
       "  <thead>\n",
       "    <tr style=\"text-align: right;\">\n",
       "      <th></th>\n",
       "      <th>Organization</th>\n",
       "      <th>Dollars Spent to Date</th>\n",
       "    </tr>\n",
       "  </thead>\n",
       "  <tbody>\n",
       "    <tr>\n",
       "      <th>9</th>\n",
       "      <td>DOC - Corrections</td>\n",
       "      <td>1.869625e+07</td>\n",
       "    </tr>\n",
       "    <tr>\n",
       "      <th>20</th>\n",
       "      <td>ISP - Illinois State Police</td>\n",
       "      <td>2.454666e+07</td>\n",
       "    </tr>\n",
       "    <tr>\n",
       "      <th>4</th>\n",
       "      <td>CPOGS - CPO Office for General Services</td>\n",
       "      <td>1.632548e+08</td>\n",
       "    </tr>\n",
       "    <tr>\n",
       "      <th>3</th>\n",
       "      <td>CMS - Central Management Services</td>\n",
       "      <td>4.971484e+08</td>\n",
       "    </tr>\n",
       "    <tr>\n",
       "      <th>12</th>\n",
       "      <td>DoIT - Department of Innovation and Technology</td>\n",
       "      <td>6.201873e+08</td>\n",
       "    </tr>\n",
       "  </tbody>\n",
       "</table>\n",
       "</div>"
      ],
      "text/plain": [
       "                                      Organization  Dollars Spent to Date\n",
       "9                                DOC - Corrections           1.869625e+07\n",
       "20                     ISP - Illinois State Police           2.454666e+07\n",
       "4          CPOGS - CPO Office for General Services           1.632548e+08\n",
       "3                CMS - Central Management Services           4.971484e+08\n",
       "12  DoIT - Department of Innovation and Technology           6.201873e+08"
      ]
     },
     "execution_count": 163,
     "metadata": {},
     "output_type": "execute_result"
    }
   ],
   "source": [
    "\n",
    "contract_data_groupby2 = contract_data_groupby[contract_data_groupby[\"Dollars Spent to Date\"] >= 1.869625e+07]\n",
    "contract_data_groupby2\n",
    "#contract_data_groupby = contract_data_groupby[contract_data_groupby[\"Dollars Spent to Date\"] > 6.670000e+03]\n",
    "#contract_data_bar2"
   ]
  },
  {
   "cell_type": "code",
   "execution_count": 164,
   "id": "49c257cf-4094-4cce-88cc-14c58733afca",
   "metadata": {
    "tags": []
   },
   "outputs": [
    {
     "name": "stderr",
     "output_type": "stream",
     "text": [
      "/tmp/ipykernel_729718/2902433789.py:1: SettingWithCopyWarning: \n",
      "A value is trying to be set on a copy of a slice from a DataFrame.\n",
      "Try using .loc[row_indexer,col_indexer] = value instead\n",
      "\n",
      "See the caveats in the documentation: https://pandas.pydata.org/pandas-docs/stable/user_guide/indexing.html#returning-a-view-versus-a-copy\n",
      "  contract_data_groupby2[\"Dollars Spent to Date\"] = contract_data_groupby2[\"Dollars Spent to Date\"]/100000\n"
     ]
    }
   ],
   "source": [
    "contract_data_groupby2[\"Dollars Spent to Date\"] = contract_data_groupby2[\"Dollars Spent to Date\"]/100000"
   ]
  },
  {
   "cell_type": "code",
   "execution_count": 165,
   "id": "7c42a4b3-edb9-4dde-80d8-3ed94539f4c9",
   "metadata": {
    "tags": []
   },
   "outputs": [
    {
     "data": {
      "text/html": [
       "<div>\n",
       "<style scoped>\n",
       "    .dataframe tbody tr th:only-of-type {\n",
       "        vertical-align: middle;\n",
       "    }\n",
       "\n",
       "    .dataframe tbody tr th {\n",
       "        vertical-align: top;\n",
       "    }\n",
       "\n",
       "    .dataframe thead th {\n",
       "        text-align: right;\n",
       "    }\n",
       "</style>\n",
       "<table border=\"1\" class=\"dataframe\">\n",
       "  <thead>\n",
       "    <tr style=\"text-align: right;\">\n",
       "      <th></th>\n",
       "      <th>Organization</th>\n",
       "      <th>Dollars Spent to Date</th>\n",
       "    </tr>\n",
       "  </thead>\n",
       "  <tbody>\n",
       "    <tr>\n",
       "      <th>9</th>\n",
       "      <td>DOC - Corrections</td>\n",
       "      <td>186.962501</td>\n",
       "    </tr>\n",
       "    <tr>\n",
       "      <th>20</th>\n",
       "      <td>ISP - Illinois State Police</td>\n",
       "      <td>245.466554</td>\n",
       "    </tr>\n",
       "    <tr>\n",
       "      <th>4</th>\n",
       "      <td>CPOGS - CPO Office for General Services</td>\n",
       "      <td>1632.548317</td>\n",
       "    </tr>\n",
       "    <tr>\n",
       "      <th>3</th>\n",
       "      <td>CMS - Central Management Services</td>\n",
       "      <td>4971.483885</td>\n",
       "    </tr>\n",
       "    <tr>\n",
       "      <th>12</th>\n",
       "      <td>DoIT - Department of Innovation and Technology</td>\n",
       "      <td>6201.872783</td>\n",
       "    </tr>\n",
       "  </tbody>\n",
       "</table>\n",
       "</div>"
      ],
      "text/plain": [
       "                                      Organization  Dollars Spent to Date\n",
       "9                                DOC - Corrections             186.962501\n",
       "20                     ISP - Illinois State Police             245.466554\n",
       "4          CPOGS - CPO Office for General Services            1632.548317\n",
       "3                CMS - Central Management Services            4971.483885\n",
       "12  DoIT - Department of Innovation and Technology            6201.872783"
      ]
     },
     "execution_count": 165,
     "metadata": {},
     "output_type": "execute_result"
    }
   ],
   "source": [
    "contract_data_groupby2"
   ]
  },
  {
   "cell_type": "code",
   "execution_count": 130,
   "id": "488d28d4-22d3-4754-8a86-5d7f5e78b79d",
   "metadata": {
    "tags": []
   },
   "outputs": [
    {
     "data": {
      "text/plain": [
       "13275308.1771"
      ]
     },
     "execution_count": 130,
     "metadata": {},
     "output_type": "execute_result"
    }
   ],
   "source": [
    "1327530817.71*0.01"
   ]
  },
  {
   "cell_type": "code",
   "execution_count": 131,
   "id": "d359a8fb-e989-4ae7-bfe3-da7b6bb99ccb",
   "metadata": {
    "tags": []
   },
   "outputs": [
    {
     "data": {
      "text/plain": [
       "18696251.0"
      ]
     },
     "execution_count": 131,
     "metadata": {},
     "output_type": "execute_result"
    }
   ],
   "source": [
    "1.869625e+07+1 # DOC - Corrections"
   ]
  },
  {
   "cell_type": "code",
   "execution_count": 132,
   "id": "8e079118-a25a-4a78-b936-499b7a94aa08",
   "metadata": {
    "tags": []
   },
   "outputs": [
    {
     "data": {
      "text/plain": [
       "620187.3"
      ]
     },
     "execution_count": 132,
     "metadata": {},
     "output_type": "execute_result"
    }
   ],
   "source": [
    "6.670000e+03/1000\n",
    "\n",
    "6.201873e+08/1000"
   ]
  },
  {
   "cell_type": "code",
   "execution_count": 133,
   "id": "380d768d-557f-4a7f-9f60-6d769bab6766",
   "metadata": {
    "tags": []
   },
   "outputs": [
    {
     "data": {
      "text/plain": [
       "99.72148234446429"
      ]
     },
     "execution_count": 133,
     "metadata": {},
     "output_type": "execute_result"
    }
   ],
   "source": [
    "x =1.869625e+07+2.454666e+07 + 1.632548e+08 + 4.971484e+08 + 6.201873e+08\n",
    "(x/y) * 100\n"
   ]
  },
  {
   "cell_type": "code",
   "execution_count": 147,
   "id": "aab54111-f8b7-444b-98da-770a9758ea0c",
   "metadata": {
    "tags": []
   },
   "outputs": [
    {
     "data": {
      "text/plain": [
       "1376"
      ]
     },
     "execution_count": 147,
     "metadata": {},
     "output_type": "execute_result"
    }
   ],
   "source": [
    "#To get the total number of contracts\n",
    "contract_data[\"Organization\"].value_counts().sum()\n",
    "\n",
    "# less than 1 percent will be plotted seperatedly and referred to as others\n",
    "# other categories outside cms will be plotted"
   ]
  },
  {
   "cell_type": "code",
   "execution_count": 167,
   "id": "15840932-30ce-416e-ab42-69f30a665f8b",
   "metadata": {
    "tags": []
   },
   "outputs": [
    {
     "data": {
      "image/png": "[encoded data removed]",
      "text/plain": [
       "<Figure size 700x500 with 1 Axes>"
      ]
     },
     "metadata": {},
     "output_type": "display_data"
    }
   ],
   "source": [
    "plt.figure(figsize=(7,5)) \n",
    "plt.barh(y = contract_data_groupby2['Organization'], width= contract_data_groupby2['Dollars Spent to Date'])\n",
    "plt.xlabel('Total Contracts Values(millions)')                      # x-label added\n",
    "plt.ylabel('State Departments')          # y-label added\n",
    "plt.title('Top 95% of Contract Value by State Department')  # title added\n",
    "plt.show()"
   ]
  },
  {
   "cell_type": "code",
   "execution_count": null,
   "id": "adb7c3c3-225f-4848-8971-714750a599bb",
   "metadata": {},
   "outputs": [],
   "source": []
  },
  {
   "cell_type": "code",
   "execution_count": null,
   "id": "8ea5332f-a1ba-4562-a167-c4aa19e1ea13",
   "metadata": {},
   "outputs": [],
   "source": [
    "'''\n",
    "CEI - Commission on Equity and Inclusion\n",
    "'''"
   ]
  }
 ],
 "metadata": {
  "kernelspec": {
   "display_name": "Python 3 (ipykernel)",
   "language": "python",
   "name": "python3"
  },
  "language_info": {
   "codemirror_mode": {
    "name": "ipython",
    "version": 3
   },
   "file_extension": ".py",
   "mimetype": "text/x-python",
   "name": "python",
   "nbconvert_exporter": "python",
   "pygments_lexer": "ipython3",
   "version": "3.9.7"
  }
 },
 "nbformat": 4,
 "nbformat_minor": 5
}
