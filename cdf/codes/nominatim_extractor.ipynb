{
 "cells": [
  {
   "cell_type": "code",
   "execution_count": 11,
   "id": "10bbf590",
   "metadata": {},
   "outputs": [],
   "source": [
    "import pandas as pd\n",
    "import json\n",
    "import folium\n",
    "from geopy.geocoders import Nominatim\n",
    "import requests\n",
    "import time"
   ]
  },
  {
   "cell_type": "code",
   "execution_count": 2,
   "id": "42eff468",
   "metadata": {},
   "outputs": [],
   "source": [
    "def extracting_location (addresses_name):\n",
    "    \"\"\"\n",
    "    input: address list\n",
    "    output: geocodes of the addresses\n",
    "    \"\"\"\n",
    "    info={}\n",
    "    for address, name in addresses_name:\n",
    "    # Define the URL for Nominatim API\n",
    "    \n",
    "        url = f\"https://nominatim.openstreetmap.org/search?q={address}&format=json&limit=1\"\n",
    "            # Make the request with a timeout of 5 seconds\n",
    "        try:\n",
    "            response = requests.get(url, timeout=5)\n",
    "            response.raise_for_status()\n",
    "            data = response.json()\n",
    "            info[name]=data\n",
    "        except requests.exceptions.RequestException as e:\n",
    "            continue\n",
    "    print (\"total info:\", len(info))\n",
    "    return info\n",
    "\n",
    "    "
   ]
  },
  {
   "cell_type": "code",
   "execution_count": 3,
   "id": "f82a3b92",
   "metadata": {},
   "outputs": [],
   "source": [
    "df = pd.read_csv('C:/Users/user/Downloads/DSI/CEI/Directory.csv')"
   ]
  },
  {
   "cell_type": "code",
   "execution_count": 4,
   "id": "39dfa141",
   "metadata": {},
   "outputs": [
    {
     "name": "stdout",
     "output_type": "stream",
     "text": [
      "MBE 4537\n",
      "WBE 3025\n",
      "WMBE 1186\n",
      "SDVOSB 83\n",
      "VBE 98\n",
      "VOSB 122\n",
      "BEPD 49\n",
      "PBE 33\n",
      "SWS 77\n"
     ]
    }
   ],
   "source": [
    "#creating different dataframe for each certification type\n",
    "\n",
    "MBE_data = df.loc[df['Certification Type'] == 'MBE']\n",
    "print('MBE',len(MBE_data))\n",
    "\n",
    "WBE_data = df.loc[df['Certification Type'] == 'WBE']\n",
    "print('WBE',len(WBE_data))\n",
    "\n",
    "WMBE_data = df.loc[df['Certification Type'] == 'WMBE']\n",
    "print('WMBE',len(WMBE_data))\n",
    "\n",
    "SDVOSB_data = df.loc[df['Certification Type'] == 'SDVOSB']\n",
    "print('SDVOSB',len(SDVOSB_data))\n",
    "\n",
    "VBE_data = df.loc[df['Certification Type'] == 'VBE']\n",
    "print('VBE',len(VBE_data))\n",
    "\n",
    "VOSB_data = df.loc[df['Certification Type'] == 'VOSB']\n",
    "print('VOSB',len(VOSB_data))\n",
    "      \n",
    "BEPD_data = df.loc[df['Certification Type'] == 'BEPD']\n",
    "print('BEPD',len(BEPD_data))\n",
    "\n",
    "PBE_data = df.loc[df['Certification Type'] == 'PBE']\n",
    "print('PBE',len(PBE_data))\n",
    "\n",
    "SWS_data = df.loc[df['Certification Type'] == 'SWS']\n",
    "print('SWS',len(SWS_data))"
   ]
  },
  {
   "cell_type": "code",
   "execution_count": 5,
   "id": "7184a3d8",
   "metadata": {},
   "outputs": [],
   "source": [
    "#converting addresses to list\n",
    "MBE_address = MBE_data['Address'].tolist()\n",
    "WBE_address = WBE_data['Address'].tolist()\n",
    "WMBE_address = WMBE_data['Address'].tolist()\n",
    "SDVOSB_address = SDVOSB_data['Address'].tolist()\n",
    "VBE_address = VBE_data['Address'].tolist()\n",
    "VOSB_address = VOSB_data['Address'].tolist()\n",
    "BEPD_address = BEPD_data['Address'].tolist()\n",
    "PBE_address = PBE_data['Address'].tolist()\n",
    "SWS_address = SWS_data['Address'].tolist()\n",
    "\n",
    "#converting names to list\n",
    "MBE_name = MBE_data['Company Name'].tolist()\n",
    "WBE_name = WBE_data['Company Name'].tolist()\n",
    "WMBE_name = WMBE_data['Company Name'].tolist()\n",
    "SDVOSB_name = SDVOSB_data['Company Name'].tolist()\n",
    "VBE_name = VBE_data['Company Name'].tolist()\n",
    "VOSB_name = VOSB_data['Company Name'].tolist()\n",
    "BEPD_name = BEPD_data['Company Name'].tolist()\n",
    "PBE_name = PBE_data['Company Name'].tolist()\n",
    "SWS_name = SWS_data['Company Name'].tolist()\n",
    "\n",
    "MBE = list(zip(MBE_address, MBE_name))\n",
    "WBE = list(zip(WBE_address, WBE_name))\n",
    "WMBE = list(zip(WMBE_address, WMBE_name))\n",
    "SDVOSB = list(zip(SDVOSB_address, SDVOSB_name))\n",
    "VBE = list(zip(VBE_address, VBE_name))\n",
    "VOSB = list(zip(VOSB_address, VOSB_name))\n",
    "BEPD = list(zip(VOSB_address, BEPD_name))\n",
    "PBE = list(zip(PBE_address, PBE_name))\n",
    "SWS = list(zip(SWS_address, SWS_name))"
   ]
  },
  {
   "cell_type": "markdown",
   "id": "859d09a9",
   "metadata": {},
   "source": [
    "# Extracting MBE"
   ]
  },
  {
   "cell_type": "code",
   "execution_count": 18,
   "id": "d8d54c5a",
   "metadata": {},
   "outputs": [],
   "source": [
    "extract=MBE[:100]\n",
    "\n",
    "file_path = \"C:/Users/user/Downloads/DSI/CEI/Geocode/MBE100.json\"\n",
    "\n",
    "# Open the file in write mode and save the dictionary as JSON\n",
    "with open(file_path, 'w') as json_file:\n",
    "    json.dump(extracting_location(extract), json_file)"
   ]
  },
  {
   "cell_type": "code",
   "execution_count": 19,
   "id": "6921f71d",
   "metadata": {},
   "outputs": [],
   "source": [
    "extract=MBE[100:200]\n",
    "\n",
    "file_path = \"C:/Users/user/Downloads/DSI/CEI/Geocode/MBE200.json\"\n",
    "\n",
    "# Open the file in write mode and save the dictionary as JSON\n",
    "with open(file_path, 'w') as json_file:\n",
    "    json.dump(extracting_location(extract), json_file)"
   ]
  },
  {
   "cell_type": "code",
   "execution_count": 21,
   "id": "8df5ee2c",
   "metadata": {},
   "outputs": [
    {
     "name": "stdout",
     "output_type": "stream",
     "text": [
      "total info: 75\n"
     ]
    }
   ],
   "source": [
    "extract=MBE[200:300]\n",
    "\n",
    "file_path = \"C:/Users/user/Downloads/DSI/CEI/Geocode/MBE300.json\"\n",
    "\n",
    "# Open the file in write mode and save the dictionary as JSON\n",
    "with open(file_path, 'w') as json_file:\n",
    "    json.dump(extracting_location(extract), json_file)"
   ]
  },
  {
   "cell_type": "code",
   "execution_count": 24,
   "id": "8331af17",
   "metadata": {},
   "outputs": [
    {
     "name": "stdout",
     "output_type": "stream",
     "text": [
      "total info: 70\n"
     ]
    }
   ],
   "source": [
    "extract=MBE[300:400]\n",
    "\n",
    "file_path = \"C:/Users/user/Downloads/DSI/CEI/Geocode/MBE400.json\"\n",
    "\n",
    "# Open the file in write mode and save the dictionary as JSON\n",
    "with open(file_path, 'w') as json_file:\n",
    "    json.dump(extracting_location(extract), json_file)"
   ]
  },
  {
   "cell_type": "code",
   "execution_count": 25,
   "id": "128ee30d",
   "metadata": {},
   "outputs": [
    {
     "name": "stdout",
     "output_type": "stream",
     "text": [
      "total info: 76\n"
     ]
    }
   ],
   "source": [
    "extract=MBE[400:500]\n",
    "\n",
    "file_path = \"C:/Users/user/Downloads/DSI/CEI/Geocode/MBE500.json\"\n",
    "\n",
    "# Open the file in write mode and save the dictionary as JSON\n",
    "with open(file_path, 'w') as json_file:\n",
    "    json.dump(extracting_location(extract), json_file)"
   ]
  },
  {
   "cell_type": "code",
   "execution_count": 29,
   "id": "617321be",
   "metadata": {},
   "outputs": [
    {
     "name": "stdout",
     "output_type": "stream",
     "text": [
      "total info: 77\n"
     ]
    }
   ],
   "source": [
    "extract=MBE[500:600]\n",
    "\n",
    "file_path = \"C:/Users/user/Downloads/DSI/CEI/Geocode/MBE600.json\"\n",
    "\n",
    "# Open the file in write mode and save the dictionary as JSON\n",
    "with open(file_path, 'w') as json_file:\n",
    "    json.dump(extracting_location(extract), json_file)"
   ]
  },
  {
   "cell_type": "code",
   "execution_count": 30,
   "id": "27a5cade",
   "metadata": {},
   "outputs": [
    {
     "name": "stdout",
     "output_type": "stream",
     "text": [
      "total info: 74\n"
     ]
    }
   ],
   "source": [
    "extract=MBE[600:700]\n",
    "\n",
    "file_path = \"C:/Users/user/Downloads/DSI/CEI/Geocode/MBE700.json\"\n",
    "\n",
    "# Open the file in write mode and save the dictionary as JSON\n",
    "with open(file_path, 'w') as json_file:\n",
    "    json.dump(extracting_location(extract), json_file)"
   ]
  },
  {
   "cell_type": "code",
   "execution_count": 7,
   "id": "46891a63",
   "metadata": {},
   "outputs": [
    {
     "name": "stdout",
     "output_type": "stream",
     "text": [
      "total info: 80\n"
     ]
    }
   ],
   "source": [
    "extract=MBE[700:800]\n",
    "\n",
    "file_path = \"C:/Users/user/Downloads/DSI/CEI/Geocode/MBE800.json\"\n",
    "\n",
    "# Open the file in write mode and save the dictionary as JSON\n",
    "with open(file_path, 'w') as json_file:\n",
    "    json.dump(extracting_location(extract), json_file)"
   ]
  },
  {
   "cell_type": "code",
   "execution_count": 6,
   "id": "110b448f",
   "metadata": {},
   "outputs": [
    {
     "name": "stdout",
     "output_type": "stream",
     "text": [
      "total info: 77\n"
     ]
    }
   ],
   "source": [
    "extract=MBE[800:900]\n",
    "\n",
    "file_path = \"C:/Users/user/Downloads/DSI/CEI/Geocode/MBE900.json\"\n",
    "\n",
    "# Open the file in write mode and save the dictionary as JSON\n",
    "with open(file_path, 'w') as json_file:\n",
    "    json.dump(extracting_location(extract), json_file)"
   ]
  },
  {
   "cell_type": "code",
   "execution_count": 8,
   "id": "682faeef",
   "metadata": {},
   "outputs": [
    {
     "name": "stdout",
     "output_type": "stream",
     "text": [
      "total info: 67\n"
     ]
    }
   ],
   "source": [
    "extract=MBE[900:1000]\n",
    "\n",
    "file_path = \"C:/Users/user/Downloads/DSI/CEI/Geocode/MBE1000.json\"\n",
    "\n",
    "# Open the file in write mode and save the dictionary as JSON\n",
    "with open(file_path, 'w') as json_file:\n",
    "    json.dump(extracting_location(extract), json_file)"
   ]
  },
  {
   "cell_type": "code",
   "execution_count": 16,
   "id": "d3970a82",
   "metadata": {},
   "outputs": [
    {
     "name": "stdout",
     "output_type": "stream",
     "text": [
      "total info: 156\n",
      "time: 110.3962550163269\n"
     ]
    }
   ],
   "source": [
    "start_time = time.time()\n",
    "\n",
    "extract=MBE[1000:1200]\n",
    "\n",
    "file_path = \"C:/Users/user/Downloads/DSI/CEI/Geocode/MBE1200.json\"\n",
    "\n",
    "# Open the file in write mode and save the dictionary as JSON\n",
    "with open(file_path, 'w') as json_file:\n",
    "    json.dump(extracting_location(extract), json_file)\n",
    "    \n",
    "    \n",
    "end_time = time.time()\n",
    "execution_time = end_time - start_time\n",
    "print(\"time:\",execution_time)"
   ]
  },
  {
   "cell_type": "code",
   "execution_count": 17,
   "id": "a03076fa",
   "metadata": {},
   "outputs": [
    {
     "name": "stdout",
     "output_type": "stream",
     "text": [
      "total info: 146\n",
      "time: 121.63560771942139\n"
     ]
    }
   ],
   "source": [
    "start_time = time.time()\n",
    "\n",
    "extract=MBE[1200:1400]\n",
    "\n",
    "file_path = \"C:/Users/user/Downloads/DSI/CEI/Geocode/MBE1400.json\"\n",
    "\n",
    "# Open the file in write mode and save the dictionary as JSON\n",
    "with open(file_path, 'w') as json_file:\n",
    "    json.dump(extracting_location(extract), json_file)\n",
    "    \n",
    "    \n",
    "end_time = time.time()\n",
    "execution_time = end_time - start_time\n",
    "print(\"time:\",execution_time)"
   ]
  },
  {
   "cell_type": "code",
   "execution_count": 18,
   "id": "259b7af8",
   "metadata": {},
   "outputs": [
    {
     "name": "stdout",
     "output_type": "stream",
     "text": [
      "total info: 153\n",
      "time: 109.36393809318542\n"
     ]
    }
   ],
   "source": [
    "start_time = time.time()\n",
    "\n",
    "extract=MBE[1400:1600]\n",
    "\n",
    "file_path = \"C:/Users/user/Downloads/DSI/CEI/Geocode/MBE1600.json\"\n",
    "\n",
    "# Open the file in write mode and save the dictionary as JSON\n",
    "with open(file_path, 'w') as json_file:\n",
    "    json.dump(extracting_location(extract), json_file)\n",
    "    \n",
    "    \n",
    "end_time = time.time()\n",
    "execution_time = end_time - start_time\n",
    "print(\"time:\",execution_time)"
   ]
  },
  {
   "cell_type": "code",
   "execution_count": 19,
   "id": "326bb84a",
   "metadata": {},
   "outputs": [
    {
     "name": "stdout",
     "output_type": "stream",
     "text": [
      "total info: 140\n",
      "time: 107.52525305747986\n"
     ]
    }
   ],
   "source": [
    "start_time = time.time()\n",
    "\n",
    "extract=MBE[1600:1800]\n",
    "\n",
    "file_path = \"C:/Users/user/Downloads/DSI/CEI/Geocode/MBE1800.json\"\n",
    "\n",
    "# Open the file in write mode and save the dictionary as JSON\n",
    "with open(file_path, 'w') as json_file:\n",
    "    json.dump(extracting_location(extract), json_file)\n",
    "    \n",
    "    \n",
    "end_time = time.time()\n",
    "execution_time = end_time - start_time\n",
    "print(\"time:\",execution_time)"
   ]
  },
  {
   "cell_type": "code",
   "execution_count": 21,
   "id": "63bec5c9",
   "metadata": {},
   "outputs": [
    {
     "name": "stdout",
     "output_type": "stream",
     "text": [
      "total info: 149\n",
      "time: 147.5800747871399\n"
     ]
    }
   ],
   "source": [
    "start_time = time.time()\n",
    "\n",
    "extract=MBE[1800:2000]\n",
    "\n",
    "file_path = \"C:/Users/user/Downloads/DSI/CEI/Geocode/MBE2000.json\"\n",
    "\n",
    "# Open the file in write mode and save the dictionary as JSON\n",
    "with open(file_path, 'w') as json_file:\n",
    "    json.dump(extracting_location(extract), json_file)\n",
    "    \n",
    "    \n",
    "end_time = time.time()\n",
    "execution_time = end_time - start_time\n",
    "print(\"time:\",execution_time)"
   ]
  },
  {
   "cell_type": "markdown",
   "id": "652a3466",
   "metadata": {},
   "source": [
    "# EXTRACTING WBE"
   ]
  },
  {
   "cell_type": "code",
   "execution_count": 22,
   "id": "74e4f8c8",
   "metadata": {},
   "outputs": [
    {
     "name": "stdout",
     "output_type": "stream",
     "text": [
      "total info: 158\n",
      "time: 133.55293893814087\n"
     ]
    }
   ],
   "source": [
    "start_time = time.time()\n",
    "\n",
    "extract=WBE[:200]\n",
    "\n",
    "file_path = \"C:/Users/user/Downloads/DSI/CEI/Geocode/WBE200.json\"\n",
    "\n",
    "# Open the file in write mode and save the dictionary as JSON\n",
    "with open(file_path, 'w') as json_file:\n",
    "    json.dump(extracting_location(extract), json_file)\n",
    "    \n",
    "    \n",
    "end_time = time.time()\n",
    "execution_time = end_time - start_time\n",
    "print(\"time:\",execution_time)"
   ]
  },
  {
   "cell_type": "code",
   "execution_count": 23,
   "id": "bfca5ec7",
   "metadata": {},
   "outputs": [
    {
     "name": "stdout",
     "output_type": "stream",
     "text": [
      "total info: 155\n",
      "time: 122.02111768722534\n"
     ]
    }
   ],
   "source": [
    "start_time = time.time()\n",
    "\n",
    "extract=WBE[200:400]\n",
    "\n",
    "file_path = \"C:/Users/user/Downloads/DSI/CEI/Geocode/WBE400.json\"\n",
    "\n",
    "# Open the file in write mode and save the dictionary as JSON\n",
    "with open(file_path, 'w') as json_file:\n",
    "    json.dump(extracting_location(extract), json_file)\n",
    "    \n",
    "    \n",
    "end_time = time.time()\n",
    "execution_time = end_time - start_time\n",
    "print(\"time:\",execution_time)"
   ]
  },
  {
   "cell_type": "code",
   "execution_count": 24,
   "id": "2360c080",
   "metadata": {},
   "outputs": [
    {
     "name": "stdout",
     "output_type": "stream",
     "text": [
      "total info: 151\n",
      "time: 113.72505283355713\n"
     ]
    }
   ],
   "source": [
    "start_time = time.time()\n",
    "\n",
    "extract=WBE[400:600]\n",
    "\n",
    "file_path = \"C:/Users/user/Downloads/DSI/CEI/Geocode/WBE600.json\"\n",
    "\n",
    "# Open the file in write mode and save the dictionary as JSON\n",
    "with open(file_path, 'w') as json_file:\n",
    "    json.dump(extracting_location(extract), json_file)\n",
    "    \n",
    "    \n",
    "end_time = time.time()\n",
    "execution_time = end_time - start_time\n",
    "print(\"time:\",execution_time)"
   ]
  },
  {
   "cell_type": "code",
   "execution_count": 25,
   "id": "bd3e3b09",
   "metadata": {},
   "outputs": [
    {
     "name": "stdout",
     "output_type": "stream",
     "text": [
      "total info: 160\n",
      "time: 121.56730127334595\n"
     ]
    }
   ],
   "source": [
    "start_time = time.time()\n",
    "\n",
    "extract=WBE[600:800]\n",
    "\n",
    "file_path = \"C:/Users/user/Downloads/DSI/CEI/Geocode/WBE800.json\"\n",
    "\n",
    "# Open the file in write mode and save the dictionary as JSON\n",
    "with open(file_path, 'w') as json_file:\n",
    "    json.dump(extracting_location(extract), json_file)\n",
    "    \n",
    "    \n",
    "end_time = time.time()\n",
    "execution_time = end_time - start_time\n",
    "print(\"time:\",execution_time)"
   ]
  },
  {
   "cell_type": "code",
   "execution_count": 26,
   "id": "d005929d",
   "metadata": {},
   "outputs": [
    {
     "name": "stdout",
     "output_type": "stream",
     "text": [
      "total info: 168\n",
      "time: 120.53573513031006\n"
     ]
    }
   ],
   "source": [
    "start_time = time.time()\n",
    "\n",
    "extract=WBE[800:1000]\n",
    "\n",
    "file_path = \"C:/Users/user/Downloads/DSI/CEI/Geocode/WBE1000.json\"\n",
    "\n",
    "# Open the file in write mode and save the dictionary as JSON\n",
    "with open(file_path, 'w') as json_file:\n",
    "    json.dump(extracting_location(extract), json_file)\n",
    "    \n",
    "    \n",
    "end_time = time.time()\n",
    "execution_time = end_time - start_time\n",
    "print(\"time:\",execution_time)"
   ]
  },
  {
   "cell_type": "code",
   "execution_count": null,
   "id": "0faa9094",
   "metadata": {},
   "outputs": [],
   "source": []
  }
 ],
 "metadata": {
  "kernelspec": {
   "display_name": "Python 3",
   "language": "python",
   "name": "python3"
  },
  "language_info": {
   "codemirror_mode": {
    "name": "ipython",
    "version": 3
   },
   "file_extension": ".py",
   "mimetype": "text/x-python",
   "name": "python",
   "nbconvert_exporter": "python",
   "pygments_lexer": "ipython3",
   "version": "3.7.16"
  }
 },
 "nbformat": 4,
 "nbformat_minor": 5
}
