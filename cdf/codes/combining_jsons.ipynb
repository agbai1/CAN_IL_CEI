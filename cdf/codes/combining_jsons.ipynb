{
 "cells": [
  {
   "cell_type": "code",
   "execution_count": 184,
   "id": "f79dc525",
   "metadata": {},
   "outputs": [],
   "source": [
    "import json"
   ]
  },
  {
   "cell_type": "markdown",
   "id": "f96d7988",
   "metadata": {},
   "source": [
    "# Creating file for MBE"
   ]
  },
  {
   "cell_type": "code",
   "execution_count": 191,
   "id": "31886494",
   "metadata": {},
   "outputs": [],
   "source": [
    "file_names=[]\n",
    "path=\"C:/Users/user/Downloads/DSI/CEI/Geocode/\"\n",
    "for i in range(1,21):\n",
    "    if i < 11:\n",
    "        i2=i*100\n",
    "        fname='MBE'+str(i2)+'.json'\n",
    "        file_names.append(fname)\n",
    "    elif i%2 == 0:\n",
    "        i2=i*100\n",
    "        fname='MBE'+str(i2)+'.json'\n",
    "        file_names.append(fname)\n",
    "    else:\n",
    "        pass\n",
    "paths=[path+n for n in file_names]"
   ]
  },
  {
   "cell_type": "code",
   "execution_count": 192,
   "id": "03956cd9",
   "metadata": {},
   "outputs": [
    {
     "data": {
      "text/plain": [
       "['C:/Users/user/Downloads/DSI/CEI/Geocode/MBE100.json',\n",
       " 'C:/Users/user/Downloads/DSI/CEI/Geocode/MBE200.json',\n",
       " 'C:/Users/user/Downloads/DSI/CEI/Geocode/MBE300.json',\n",
       " 'C:/Users/user/Downloads/DSI/CEI/Geocode/MBE400.json',\n",
       " 'C:/Users/user/Downloads/DSI/CEI/Geocode/MBE500.json',\n",
       " 'C:/Users/user/Downloads/DSI/CEI/Geocode/MBE600.json',\n",
       " 'C:/Users/user/Downloads/DSI/CEI/Geocode/MBE700.json',\n",
       " 'C:/Users/user/Downloads/DSI/CEI/Geocode/MBE800.json',\n",
       " 'C:/Users/user/Downloads/DSI/CEI/Geocode/MBE900.json',\n",
       " 'C:/Users/user/Downloads/DSI/CEI/Geocode/MBE1000.json',\n",
       " 'C:/Users/user/Downloads/DSI/CEI/Geocode/MBE1200.json',\n",
       " 'C:/Users/user/Downloads/DSI/CEI/Geocode/MBE1400.json',\n",
       " 'C:/Users/user/Downloads/DSI/CEI/Geocode/MBE1600.json',\n",
       " 'C:/Users/user/Downloads/DSI/CEI/Geocode/MBE1800.json',\n",
       " 'C:/Users/user/Downloads/DSI/CEI/Geocode/MBE2000.json']"
      ]
     },
     "execution_count": 192,
     "metadata": {},
     "output_type": "execute_result"
    }
   ],
   "source": [
    "paths"
   ]
  },
  {
   "cell_type": "code",
   "execution_count": 193,
   "id": "ea4f4034",
   "metadata": {},
   "outputs": [],
   "source": [
    "combined_data_MBE={}\n",
    "for file_ in paths:\n",
    "    with open(file_, 'r') as file:\n",
    "        data = json.load(file)\n",
    "        combined_data_MBE.update(data)"
   ]
  },
  {
   "cell_type": "code",
   "execution_count": 194,
   "id": "3542dd8f",
   "metadata": {},
   "outputs": [
    {
     "data": {
      "text/plain": [
       "1488"
      ]
     },
     "execution_count": 194,
     "metadata": {},
     "output_type": "execute_result"
    }
   ],
   "source": [
    "len(combined_data_MBE)"
   ]
  },
  {
   "cell_type": "code",
   "execution_count": 195,
   "id": "bc5e74b5",
   "metadata": {},
   "outputs": [],
   "source": [
    "# Write the combined dictionary to a new JSON file\n",
    "with open(\"combined_data_MBE.json\", \"w\") as outfile:\n",
    "     json.dump(combined_data_MBE, outfile)"
   ]
  },
  {
   "cell_type": "markdown",
   "id": "e58e97e8",
   "metadata": {},
   "source": [
    "# Creating File for WBE"
   ]
  },
  {
   "cell_type": "code",
   "execution_count": 202,
   "id": "242bcb72",
   "metadata": {},
   "outputs": [],
   "source": [
    "file_names_WBE=[]\n",
    "path_WBE=\"C:/Users/user/Downloads/DSI/CEI/Geocode/\"\n",
    "for i in range(1,11):\n",
    "    if i % 2 == 0:\n",
    "        i2=i*100\n",
    "        fname='WBE'+str(i2)+'.json'\n",
    "        file_names_WBE.append(fname)\n",
    "    else:\n",
    "        pass\n",
    "paths_WBE=[path_WBE+n for n in file_names_WBE]"
   ]
  },
  {
   "cell_type": "code",
   "execution_count": 203,
   "id": "e0696d4f",
   "metadata": {},
   "outputs": [
    {
     "data": {
      "text/plain": [
       "['C:/Users/user/Downloads/DSI/CEI/Geocode/WBE200.json',\n",
       " 'C:/Users/user/Downloads/DSI/CEI/Geocode/WBE400.json',\n",
       " 'C:/Users/user/Downloads/DSI/CEI/Geocode/WBE600.json',\n",
       " 'C:/Users/user/Downloads/DSI/CEI/Geocode/WBE800.json',\n",
       " 'C:/Users/user/Downloads/DSI/CEI/Geocode/WBE1000.json']"
      ]
     },
     "execution_count": 203,
     "metadata": {},
     "output_type": "execute_result"
    }
   ],
   "source": [
    "paths_WBE"
   ]
  },
  {
   "cell_type": "code",
   "execution_count": 204,
   "id": "6deaf76d",
   "metadata": {},
   "outputs": [],
   "source": [
    "combined_data_WBE={}\n",
    "for file_ in paths_WBE:\n",
    "    with open(file_, 'r') as file:\n",
    "        data = json.load(file)\n",
    "        combined_data_WBE.update(data)"
   ]
  },
  {
   "cell_type": "code",
   "execution_count": 205,
   "id": "e9e654d1",
   "metadata": {},
   "outputs": [],
   "source": [
    "# Write the combined dictionary to a new JSON file\n",
    "with open(\"combined_data_WBE.json\", \"w\") as outfile:\n",
    "     json.dump(combined_data_WBE, outfile)"
   ]
  },
  {
   "cell_type": "code",
   "execution_count": null,
   "id": "a40a1797",
   "metadata": {},
   "outputs": [],
   "source": []
  }
 ],
 "metadata": {
  "kernelspec": {
   "display_name": "Python 3",
   "language": "python",
   "name": "python3"
  },
  "language_info": {
   "codemirror_mode": {
    "name": "ipython",
    "version": 3
   },
   "file_extension": ".py",
   "mimetype": "text/x-python",
   "name": "python",
   "nbconvert_exporter": "python",
   "pygments_lexer": "ipython3",
   "version": "3.7.16"
  }
 },
 "nbformat": 4,
 "nbformat_minor": 5
}
