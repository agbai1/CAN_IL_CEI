{
 "cells": [
  {
   "cell_type": "code",
   "execution_count": 35,
   "id": "cd9a2689-fe9e-4f2d-8553-3231a0efae95",
   "metadata": {
    "tags": []
   },
   "outputs": [
    {
     "data": {
      "text/html": [
       "<div>\n",
       "<style scoped>\n",
       "    .dataframe tbody tr th:only-of-type {\n",
       "        vertical-align: middle;\n",
       "    }\n",
       "\n",
       "    .dataframe tbody tr th {\n",
       "        vertical-align: top;\n",
       "    }\n",
       "\n",
       "    .dataframe thead th {\n",
       "        text-align: right;\n",
       "    }\n",
       "</style>\n",
       "<table border=\"1\" class=\"dataframe\">\n",
       "  <thead>\n",
       "    <tr style=\"text-align: right;\">\n",
       "      <th></th>\n",
       "      <th>STATEFP</th>\n",
       "      <th>COUNTYFP</th>\n",
       "      <th>COUNTYNS</th>\n",
       "      <th>AFFGEOID</th>\n",
       "      <th>GEOID</th>\n",
       "      <th>NAME</th>\n",
       "      <th>LSAD</th>\n",
       "      <th>ALAND</th>\n",
       "      <th>AWATER</th>\n",
       "      <th>geometry</th>\n",
       "    </tr>\n",
       "  </thead>\n",
       "  <tbody>\n",
       "    <tr>\n",
       "      <th>0</th>\n",
       "      <td>39</td>\n",
       "      <td>071</td>\n",
       "      <td>01074048</td>\n",
       "      <td>0500000US39071</td>\n",
       "      <td>39071</td>\n",
       "      <td>Highland</td>\n",
       "      <td>06</td>\n",
       "      <td>1432479992</td>\n",
       "      <td>12194983</td>\n",
       "      <td>POLYGON ((-83.86976 39.05553, -83.86568 39.247...</td>\n",
       "    </tr>\n",
       "    <tr>\n",
       "      <th>1</th>\n",
       "      <td>06</td>\n",
       "      <td>003</td>\n",
       "      <td>01675840</td>\n",
       "      <td>0500000US06003</td>\n",
       "      <td>06003</td>\n",
       "      <td>Alpine</td>\n",
       "      <td>06</td>\n",
       "      <td>1912292630</td>\n",
       "      <td>12557304</td>\n",
       "      <td>POLYGON ((-120.07248 38.50987, -120.07239 38.7...</td>\n",
       "    </tr>\n",
       "    <tr>\n",
       "      <th>2</th>\n",
       "      <td>12</td>\n",
       "      <td>033</td>\n",
       "      <td>00295737</td>\n",
       "      <td>0500000US12033</td>\n",
       "      <td>12033</td>\n",
       "      <td>Escambia</td>\n",
       "      <td>06</td>\n",
       "      <td>1701544502</td>\n",
       "      <td>563927612</td>\n",
       "      <td>POLYGON ((-87.62999 30.87766, -87.62946 30.880...</td>\n",
       "    </tr>\n",
       "  </tbody>\n",
       "</table>\n",
       "</div>"
      ],
      "text/plain": [
       "  STATEFP COUNTYFP  COUNTYNS        AFFGEOID  GEOID      NAME LSAD  \\\n",
       "0      39      071  01074048  0500000US39071  39071  Highland   06   \n",
       "1      06      003  01675840  0500000US06003  06003    Alpine   06   \n",
       "2      12      033  00295737  0500000US12033  12033  Escambia   06   \n",
       "\n",
       "        ALAND     AWATER                                           geometry  \n",
       "0  1432479992   12194983  POLYGON ((-83.86976 39.05553, -83.86568 39.247...  \n",
       "1  1912292630   12557304  POLYGON ((-120.07248 38.50987, -120.07239 38.7...  \n",
       "2  1701544502  563927612  POLYGON ((-87.62999 30.87766, -87.62946 30.880...  "
      ]
     },
     "execution_count": 35,
     "metadata": {},
     "output_type": "execute_result"
    }
   ],
   "source": [
    "#import libraries\n",
    "import numpy as np\n",
    "import pandas as pd\n",
    "import geopandas as gpd\n",
    "import fiona\n",
    "import matplotlib.pyplot as plt\n",
    "\n",
    "# Read in shapefile\n",
    "# Downloaded from https://www2.census.gov/geo/tiger/GENZ2018/shp/cb_2018_us_county_5m.zip\n",
    "\n",
    "shape_data = gpd.read_file(\"https://www2.census.gov/geo/tiger/GENZ2018/shp/cb_2018_us_county_5m.zip\")\n",
    "\n",
    "shape_data.head(3)"
   ]
  },
  {
   "cell_type": "code",
   "execution_count": 5,
   "id": "be037c69-4723-4f92-ad86-a905f0b7c81d",
   "metadata": {
    "tags": []
   },
   "outputs": [
    {
     "data": {
      "text/html": [
       "<div>\n",
       "<style scoped>\n",
       "    .dataframe tbody tr th:only-of-type {\n",
       "        vertical-align: middle;\n",
       "    }\n",
       "\n",
       "    .dataframe tbody tr th {\n",
       "        vertical-align: top;\n",
       "    }\n",
       "\n",
       "    .dataframe thead th {\n",
       "        text-align: right;\n",
       "    }\n",
       "</style>\n",
       "<table border=\"1\" class=\"dataframe\">\n",
       "  <thead>\n",
       "    <tr style=\"text-align: right;\">\n",
       "      <th></th>\n",
       "      <th>STATEFP</th>\n",
       "      <th>COUNTYFP</th>\n",
       "      <th>COUNTYNS</th>\n",
       "      <th>AFFGEOID</th>\n",
       "      <th>GEOID</th>\n",
       "      <th>NAME</th>\n",
       "      <th>LSAD</th>\n",
       "      <th>ALAND</th>\n",
       "      <th>AWATER</th>\n",
       "      <th>geometry</th>\n",
       "    </tr>\n",
       "  </thead>\n",
       "  <tbody>\n",
       "    <tr>\n",
       "      <th>3</th>\n",
       "      <td>17</td>\n",
       "      <td>101</td>\n",
       "      <td>00424252</td>\n",
       "      <td>0500000US17101</td>\n",
       "      <td>17101</td>\n",
       "      <td>Lawrence</td>\n",
       "      <td>06</td>\n",
       "      <td>963936864</td>\n",
       "      <td>5077783</td>\n",
       "      <td>POLYGON ((-87.91028 38.57493, -87.90811 38.850...</td>\n",
       "    </tr>\n",
       "    <tr>\n",
       "      <th>22</th>\n",
       "      <td>17</td>\n",
       "      <td>093</td>\n",
       "      <td>00424248</td>\n",
       "      <td>0500000US17093</td>\n",
       "      <td>17093</td>\n",
       "      <td>Kendall</td>\n",
       "      <td>06</td>\n",
       "      <td>829468028</td>\n",
       "      <td>5136619</td>\n",
       "      <td>POLYGON ((-88.60349 41.71358, -88.60193 41.719...</td>\n",
       "    </tr>\n",
       "    <tr>\n",
       "      <th>57</th>\n",
       "      <td>17</td>\n",
       "      <td>139</td>\n",
       "      <td>01784885</td>\n",
       "      <td>0500000US17139</td>\n",
       "      <td>17139</td>\n",
       "      <td>Moultrie</td>\n",
       "      <td>06</td>\n",
       "      <td>870123798</td>\n",
       "      <td>22102741</td>\n",
       "      <td>POLYGON ((-88.81271 39.74049, -88.75784 39.739...</td>\n",
       "    </tr>\n",
       "  </tbody>\n",
       "</table>\n",
       "</div>"
      ],
      "text/plain": [
       "   STATEFP COUNTYFP  COUNTYNS        AFFGEOID  GEOID      NAME LSAD  \\\n",
       "3       17      101  00424252  0500000US17101  17101  Lawrence   06   \n",
       "22      17      093  00424248  0500000US17093  17093   Kendall   06   \n",
       "57      17      139  01784885  0500000US17139  17139  Moultrie   06   \n",
       "\n",
       "        ALAND    AWATER                                           geometry  \n",
       "3   963936864   5077783  POLYGON ((-87.91028 38.57493, -87.90811 38.850...  \n",
       "22  829468028   5136619  POLYGON ((-88.60349 41.71358, -88.60193 41.719...  \n",
       "57  870123798  22102741  POLYGON ((-88.81271 39.74049, -88.75784 39.739...  "
      ]
     },
     "execution_count": 5,
     "metadata": {},
     "output_type": "execute_result"
    }
   ],
   "source": [
    "# Filter to only counties in Illinois using StateFP column = 17 \n",
    "shape_data = shape_data.loc[(shape_data['STATEFP'] == \"17\")]\n",
    "\n",
    "shape_data.head(3)"
   ]
  },
  {
   "cell_type": "code",
   "execution_count": 6,
   "id": "467ed36b-37f6-4424-80f8-f254a9bc4fe5",
   "metadata": {
    "tags": []
   },
   "outputs": [
    {
     "data": {
      "text/html": [
       "<div>\n",
       "<style scoped>\n",
       "    .dataframe tbody tr th:only-of-type {\n",
       "        vertical-align: middle;\n",
       "    }\n",
       "\n",
       "    .dataframe tbody tr th {\n",
       "        vertical-align: top;\n",
       "    }\n",
       "\n",
       "    .dataframe thead th {\n",
       "        text-align: right;\n",
       "    }\n",
       "</style>\n",
       "<table border=\"1\" class=\"dataframe\">\n",
       "  <thead>\n",
       "    <tr style=\"text-align: right;\">\n",
       "      <th></th>\n",
       "      <th>Company Name</th>\n",
       "      <th>Latitude</th>\n",
       "      <th>Longitude</th>\n",
       "      <th>Street</th>\n",
       "      <th>City</th>\n",
       "      <th>County</th>\n",
       "      <th>State</th>\n",
       "      <th>Confidence</th>\n",
       "      <th>Original Address</th>\n",
       "    </tr>\n",
       "  </thead>\n",
       "  <tbody>\n",
       "    <tr>\n",
       "      <th>0</th>\n",
       "      <td>#1 Professional Cleaning Services</td>\n",
       "      <td>41.848017</td>\n",
       "      <td>-87.891201</td>\n",
       "      <td>2205 Mayfair Ave</td>\n",
       "      <td>Westchester</td>\n",
       "      <td>Cook County</td>\n",
       "      <td>IL</td>\n",
       "      <td>High</td>\n",
       "      <td>2205 Mayfair, Westchester, IL</td>\n",
       "    </tr>\n",
       "    <tr>\n",
       "      <th>1</th>\n",
       "      <td>#9 Design, LLC</td>\n",
       "      <td>41.890007</td>\n",
       "      <td>-87.992682</td>\n",
       "      <td>524 W Saint Charles Rd</td>\n",
       "      <td>Villa Park</td>\n",
       "      <td>DuPage County</td>\n",
       "      <td>IL</td>\n",
       "      <td>High</td>\n",
       "      <td>524 West Saint Charles Road, Villa Park, IL</td>\n",
       "    </tr>\n",
       "    <tr>\n",
       "      <th>2</th>\n",
       "      <td>'Bouche' Enterprises LLC</td>\n",
       "      <td>41.943783</td>\n",
       "      <td>-87.812819</td>\n",
       "      <td>3511 N Osceola Ave</td>\n",
       "      <td>Chicago</td>\n",
       "      <td>Cook County</td>\n",
       "      <td>IL</td>\n",
       "      <td>High</td>\n",
       "      <td>3511 North Osceola Avenue, Chicago, IL</td>\n",
       "    </tr>\n",
       "    <tr>\n",
       "      <th>3</th>\n",
       "      <td>'Merica Made Painting &amp; Decorating Corp.</td>\n",
       "      <td>41.779011</td>\n",
       "      <td>-87.771186</td>\n",
       "      <td>6221 S Austin Ave</td>\n",
       "      <td>Chicago</td>\n",
       "      <td>Cook County</td>\n",
       "      <td>IL</td>\n",
       "      <td>High</td>\n",
       "      <td>6221 S Austin Ave, Chicago, IL</td>\n",
       "    </tr>\n",
       "    <tr>\n",
       "      <th>4</th>\n",
       "      <td>*VDR Development Group</td>\n",
       "      <td>41.931275</td>\n",
       "      <td>-88.083132</td>\n",
       "      <td>168 N Brandon Dr</td>\n",
       "      <td>Glendale Heights</td>\n",
       "      <td>DuPage County</td>\n",
       "      <td>IL</td>\n",
       "      <td>High</td>\n",
       "      <td>168 N Brandon Drive, Glendale Heights, IL</td>\n",
       "    </tr>\n",
       "  </tbody>\n",
       "</table>\n",
       "</div>"
      ],
      "text/plain": [
       "                               Company Name   Latitude  Longitude  \\\n",
       "0         #1 Professional Cleaning Services  41.848017 -87.891201   \n",
       "1                            #9 Design, LLC  41.890007 -87.992682   \n",
       "2                  'Bouche' Enterprises LLC  41.943783 -87.812819   \n",
       "3  'Merica Made Painting & Decorating Corp.  41.779011 -87.771186   \n",
       "4                    *VDR Development Group  41.931275 -88.083132   \n",
       "\n",
       "                   Street              City         County State Confidence  \\\n",
       "0        2205 Mayfair Ave       Westchester    Cook County    IL       High   \n",
       "1  524 W Saint Charles Rd        Villa Park  DuPage County    IL       High   \n",
       "2      3511 N Osceola Ave           Chicago    Cook County    IL       High   \n",
       "3       6221 S Austin Ave           Chicago    Cook County    IL       High   \n",
       "4        168 N Brandon Dr  Glendale Heights  DuPage County    IL       High   \n",
       "\n",
       "                              Original Address  \n",
       "0                2205 Mayfair, Westchester, IL  \n",
       "1  524 West Saint Charles Road, Villa Park, IL  \n",
       "2       3511 North Osceola Avenue, Chicago, IL  \n",
       "3               6221 S Austin Ave, Chicago, IL  \n",
       "4    168 N Brandon Drive, Glendale Heights, IL  "
      ]
     },
     "execution_count": 6,
     "metadata": {},
     "output_type": "execute_result"
    }
   ],
   "source": [
    "# Read in BEP company address physical geocoded csv file\n",
    "illinois_data = pd.read_csv(\"../IL_CEI/can-summer-2023/data/clean/bep_company_addresses_physical_geocoded.csv\")\n",
    "illinois_data.head()"
   ]
  },
  {
   "cell_type": "code",
   "execution_count": 33,
   "id": "4888aae3-0df0-4c3f-b350-3cf5d32dbec3",
   "metadata": {
    "tags": []
   },
   "outputs": [
    {
     "data": {
      "text/html": [
       "<div>\n",
       "<style scoped>\n",
       "    .dataframe tbody tr th:only-of-type {\n",
       "        vertical-align: middle;\n",
       "    }\n",
       "\n",
       "    .dataframe tbody tr th {\n",
       "        vertical-align: top;\n",
       "    }\n",
       "\n",
       "    .dataframe thead th {\n",
       "        text-align: right;\n",
       "    }\n",
       "</style>\n",
       "<table border=\"1\" class=\"dataframe\">\n",
       "  <thead>\n",
       "    <tr style=\"text-align: right;\">\n",
       "      <th></th>\n",
       "      <th>County</th>\n",
       "      <th>Original Address</th>\n",
       "    </tr>\n",
       "  </thead>\n",
       "  <tbody>\n",
       "    <tr>\n",
       "      <th>76</th>\n",
       "      <td>Whiteside County</td>\n",
       "      <td>2</td>\n",
       "    </tr>\n",
       "    <tr>\n",
       "      <th>77</th>\n",
       "      <td>Will County</td>\n",
       "      <td>197</td>\n",
       "    </tr>\n",
       "    <tr>\n",
       "      <th>78</th>\n",
       "      <td>Williamson County</td>\n",
       "      <td>2</td>\n",
       "    </tr>\n",
       "    <tr>\n",
       "      <th>79</th>\n",
       "      <td>Winnebago County</td>\n",
       "      <td>32</td>\n",
       "    </tr>\n",
       "    <tr>\n",
       "      <th>80</th>\n",
       "      <td>Woodford County</td>\n",
       "      <td>2</td>\n",
       "    </tr>\n",
       "  </tbody>\n",
       "</table>\n",
       "</div>"
      ],
      "text/plain": [
       "               County  Original Address\n",
       "76   Whiteside County                 2\n",
       "77        Will County               197\n",
       "78  Williamson County                 2\n",
       "79   Winnebago County                32\n",
       "80    Woodford County                 2"
      ]
     },
     "execution_count": 33,
     "metadata": {},
     "output_type": "execute_result"
    }
   ],
   "source": [
    "# Filter to only states in Illinois and Group by County name to get total number of BEPs by County \n",
    "illinois_data = illinois_data.loc[(illinois_data['State'] == \"IL\")]\n",
    "illinois_groupby = illinois_data.groupby('County').count()[['Original Address']].reset_index()\n",
    "illinois_groupby.tail()"
   ]
  },
  {
   "cell_type": "code",
   "execution_count": 31,
   "id": "20f7b2ba-f120-4ea2-a594-4c2408d44a2a",
   "metadata": {
    "tags": []
   },
   "outputs": [
    {
     "data": {
      "text/html": [
       "<div>\n",
       "<style scoped>\n",
       "    .dataframe tbody tr th:only-of-type {\n",
       "        vertical-align: middle;\n",
       "    }\n",
       "\n",
       "    .dataframe tbody tr th {\n",
       "        vertical-align: top;\n",
       "    }\n",
       "\n",
       "    .dataframe thead th {\n",
       "        text-align: right;\n",
       "    }\n",
       "</style>\n",
       "<table border=\"1\" class=\"dataframe\">\n",
       "  <thead>\n",
       "    <tr style=\"text-align: right;\">\n",
       "      <th></th>\n",
       "      <th>County</th>\n",
       "      <th>Original Address</th>\n",
       "      <th>Counties_Split</th>\n",
       "    </tr>\n",
       "  </thead>\n",
       "  <tbody>\n",
       "    <tr>\n",
       "      <th>0</th>\n",
       "      <td>Adams</td>\n",
       "      <td>7</td>\n",
       "      <td></td>\n",
       "    </tr>\n",
       "    <tr>\n",
       "      <th>1</th>\n",
       "      <td>Boone</td>\n",
       "      <td>6</td>\n",
       "      <td></td>\n",
       "    </tr>\n",
       "    <tr>\n",
       "      <th>2</th>\n",
       "      <td>Brown</td>\n",
       "      <td>1</td>\n",
       "      <td></td>\n",
       "    </tr>\n",
       "    <tr>\n",
       "      <th>3</th>\n",
       "      <td>Bureau</td>\n",
       "      <td>1</td>\n",
       "      <td></td>\n",
       "    </tr>\n",
       "    <tr>\n",
       "      <th>4</th>\n",
       "      <td>Carroll</td>\n",
       "      <td>1</td>\n",
       "      <td></td>\n",
       "    </tr>\n",
       "    <tr>\n",
       "      <th>...</th>\n",
       "      <td>...</td>\n",
       "      <td>...</td>\n",
       "      <td>...</td>\n",
       "    </tr>\n",
       "    <tr>\n",
       "      <th>76</th>\n",
       "      <td>Whiteside</td>\n",
       "      <td>2</td>\n",
       "      <td></td>\n",
       "    </tr>\n",
       "    <tr>\n",
       "      <th>77</th>\n",
       "      <td>Will</td>\n",
       "      <td>197</td>\n",
       "      <td></td>\n",
       "    </tr>\n",
       "    <tr>\n",
       "      <th>78</th>\n",
       "      <td>Williamson</td>\n",
       "      <td>2</td>\n",
       "      <td></td>\n",
       "    </tr>\n",
       "    <tr>\n",
       "      <th>79</th>\n",
       "      <td>Winnebago</td>\n",
       "      <td>32</td>\n",
       "      <td></td>\n",
       "    </tr>\n",
       "    <tr>\n",
       "      <th>80</th>\n",
       "      <td>Woodford</td>\n",
       "      <td>2</td>\n",
       "      <td></td>\n",
       "    </tr>\n",
       "  </tbody>\n",
       "</table>\n",
       "<p>81 rows × 3 columns</p>\n",
       "</div>"
      ],
      "text/plain": [
       "        County  Original Address Counties_Split\n",
       "0        Adams                 7               \n",
       "1        Boone                 6               \n",
       "2        Brown                 1               \n",
       "3       Bureau                 1               \n",
       "4      Carroll                 1               \n",
       "..         ...               ...            ...\n",
       "76   Whiteside                 2               \n",
       "77        Will               197               \n",
       "78  Williamson                 2               \n",
       "79   Winnebago                32               \n",
       "80    Woodford                 2               \n",
       "\n",
       "[81 rows x 3 columns]"
      ]
     },
     "execution_count": 31,
     "metadata": {},
     "output_type": "execute_result"
    }
   ],
   "source": [
    "# Split County Column for an easy merge with shape_data dataframe\n",
    "illinois_groupby[[\"County\", \"Counties_Split\"]] = illinois_groupby['County'].str.split(' County', expand=True).astype(str)\n",
    "#creates new columns for BP Numerator', 'BP Denominator and respectively splits Blood Pressure column data between them\n",
    "\n",
    "\n",
    "\n",
    "#bep_data_df.head(30)\n",
    "#il_county.groupby('var').count()[['single_var_need']].reset_index()\n",
    "illinois_groupby"
   ]
  },
  {
   "cell_type": "code",
   "execution_count": 22,
   "id": "5caac5f7-2ab6-4242-92d8-ca442f62b99b",
   "metadata": {
    "tags": []
   },
   "outputs": [],
   "source": [
    "#sample = sample.rename(columns = {0: 'Counties'})\n",
    "#sample\n"
   ]
  },
  {
   "cell_type": "code",
   "execution_count": 38,
   "id": "0e1a6e13-b3a4-4d0a-bff7-8f63177ef96f",
   "metadata": {
    "tags": []
   },
   "outputs": [
    {
     "data": {
      "text/plain": [
       "81"
      ]
     },
     "execution_count": 38,
     "metadata": {},
     "output_type": "execute_result"
    }
   ],
   "source": [
    "#merge ex and real_data\n",
    "# illinois_groupby_pro = pd.merge(illinois_groupby, sample, left_index = True, right_index =True)\n",
    "#illinois_groupby_pro['County'].unique()\n",
    "# illinois_groupby_pro['County'].count()\n",
    "#illinois_groupby_pro"
   ]
  },
  {
   "cell_type": "code",
   "execution_count": 27,
   "id": "d84b4a9e-b57d-419f-b3e4-668af3799909",
   "metadata": {
    "tags": []
   },
   "outputs": [
    {
     "data": {
      "text/plain": [
       "102"
      ]
     },
     "execution_count": 27,
     "metadata": {},
     "output_type": "execute_result"
    }
   ],
   "source": [
    "# Rename the Column \"NAME\" to \"County\"\n",
    "\n",
    "shape_data = shape_data.rename(columns = {'NAME': 'County'})\n",
    "\n",
    "\n"
   ]
  },
  {
   "cell_type": "code",
   "execution_count": 26,
   "id": "35c09fb6-4d08-4fac-97e5-7c2150234c7d",
   "metadata": {
    "tags": []
   },
   "outputs": [
    {
     "data": {
      "text/html": [
       "<div>\n",
       "<style scoped>\n",
       "    .dataframe tbody tr th:only-of-type {\n",
       "        vertical-align: middle;\n",
       "    }\n",
       "\n",
       "    .dataframe tbody tr th {\n",
       "        vertical-align: top;\n",
       "    }\n",
       "\n",
       "    .dataframe thead th {\n",
       "        text-align: right;\n",
       "    }\n",
       "</style>\n",
       "<table border=\"1\" class=\"dataframe\">\n",
       "  <thead>\n",
       "    <tr style=\"text-align: right;\">\n",
       "      <th></th>\n",
       "      <th>STATEFP</th>\n",
       "      <th>COUNTYFP</th>\n",
       "      <th>COUNTYNS</th>\n",
       "      <th>AFFGEOID</th>\n",
       "      <th>GEOID</th>\n",
       "      <th>County</th>\n",
       "      <th>LSAD</th>\n",
       "      <th>ALAND</th>\n",
       "      <th>AWATER</th>\n",
       "      <th>geometry</th>\n",
       "      <th>Original Address</th>\n",
       "      <th>Counties_Split</th>\n",
       "    </tr>\n",
       "  </thead>\n",
       "  <tbody>\n",
       "    <tr>\n",
       "      <th>0</th>\n",
       "      <td>17</td>\n",
       "      <td>093</td>\n",
       "      <td>00424248</td>\n",
       "      <td>0500000US17093</td>\n",
       "      <td>17093</td>\n",
       "      <td>Kendall</td>\n",
       "      <td>06</td>\n",
       "      <td>829468028</td>\n",
       "      <td>5136619</td>\n",
       "      <td>POLYGON ((-88.60349 41.71358, -88.60193 41.719...</td>\n",
       "      <td>11</td>\n",
       "      <td></td>\n",
       "    </tr>\n",
       "    <tr>\n",
       "      <th>1</th>\n",
       "      <td>17</td>\n",
       "      <td>049</td>\n",
       "      <td>00424226</td>\n",
       "      <td>0500000US17049</td>\n",
       "      <td>17049</td>\n",
       "      <td>Effingham</td>\n",
       "      <td>06</td>\n",
       "      <td>1239970330</td>\n",
       "      <td>3183217</td>\n",
       "      <td>POLYGON ((-88.80532 39.21626, -88.47091 39.215...</td>\n",
       "      <td>3</td>\n",
       "      <td></td>\n",
       "    </tr>\n",
       "    <tr>\n",
       "      <th>2</th>\n",
       "      <td>17</td>\n",
       "      <td>103</td>\n",
       "      <td>00424253</td>\n",
       "      <td>0500000US17103</td>\n",
       "      <td>17103</td>\n",
       "      <td>Lee</td>\n",
       "      <td>06</td>\n",
       "      <td>1877336056</td>\n",
       "      <td>10634483</td>\n",
       "      <td>POLYGON ((-89.63147 41.75813, -89.63026 41.843...</td>\n",
       "      <td>1</td>\n",
       "      <td></td>\n",
       "    </tr>\n",
       "    <tr>\n",
       "      <th>3</th>\n",
       "      <td>17</td>\n",
       "      <td>107</td>\n",
       "      <td>00424255</td>\n",
       "      <td>0500000US17107</td>\n",
       "      <td>17107</td>\n",
       "      <td>Logan</td>\n",
       "      <td>06</td>\n",
       "      <td>1600795502</td>\n",
       "      <td>2252736</td>\n",
       "      <td>POLYGON ((-89.60298 40.32013, -89.26374 40.325...</td>\n",
       "      <td>2</td>\n",
       "      <td></td>\n",
       "    </tr>\n",
       "    <tr>\n",
       "      <th>4</th>\n",
       "      <td>17</td>\n",
       "      <td>115</td>\n",
       "      <td>00424256</td>\n",
       "      <td>0500000US17115</td>\n",
       "      <td>17115</td>\n",
       "      <td>Macon</td>\n",
       "      <td>06</td>\n",
       "      <td>1503684098</td>\n",
       "      <td>13406667</td>\n",
       "      <td>POLYGON ((-89.21785 39.91699, -89.14345 39.917...</td>\n",
       "      <td>14</td>\n",
       "      <td></td>\n",
       "    </tr>\n",
       "    <tr>\n",
       "      <th>...</th>\n",
       "      <td>...</td>\n",
       "      <td>...</td>\n",
       "      <td>...</td>\n",
       "      <td>...</td>\n",
       "      <td>...</td>\n",
       "      <td>...</td>\n",
       "      <td>...</td>\n",
       "      <td>...</td>\n",
       "      <td>...</td>\n",
       "      <td>...</td>\n",
       "      <td>...</td>\n",
       "      <td>...</td>\n",
       "    </tr>\n",
       "    <tr>\n",
       "      <th>75</th>\n",
       "      <td>17</td>\n",
       "      <td>195</td>\n",
       "      <td>01785167</td>\n",
       "      <td>0500000US17195</td>\n",
       "      <td>17195</td>\n",
       "      <td>Whiteside</td>\n",
       "      <td>06</td>\n",
       "      <td>1772158753</td>\n",
       "      <td>31836569</td>\n",
       "      <td>POLYGON ((-90.23677 41.76260, -90.24717 41.762...</td>\n",
       "      <td>2</td>\n",
       "      <td></td>\n",
       "    </tr>\n",
       "    <tr>\n",
       "      <th>76</th>\n",
       "      <td>17</td>\n",
       "      <td>025</td>\n",
       "      <td>00424214</td>\n",
       "      <td>0500000US17025</td>\n",
       "      <td>17025</td>\n",
       "      <td>Clay</td>\n",
       "      <td>06</td>\n",
       "      <td>1212815749</td>\n",
       "      <td>3271820</td>\n",
       "      <td>POLYGON ((-88.69517 38.82630, -88.69353 38.914...</td>\n",
       "      <td>1</td>\n",
       "      <td></td>\n",
       "    </tr>\n",
       "    <tr>\n",
       "      <th>77</th>\n",
       "      <td>17</td>\n",
       "      <td>147</td>\n",
       "      <td>00424275</td>\n",
       "      <td>0500000US17147</td>\n",
       "      <td>17147</td>\n",
       "      <td>Piatt</td>\n",
       "      <td>06</td>\n",
       "      <td>1137399517</td>\n",
       "      <td>755574</td>\n",
       "      <td>POLYGON ((-88.74516 40.05519, -88.74534 40.098...</td>\n",
       "      <td>2</td>\n",
       "      <td></td>\n",
       "    </tr>\n",
       "    <tr>\n",
       "      <th>78</th>\n",
       "      <td>17</td>\n",
       "      <td>181</td>\n",
       "      <td>01785113</td>\n",
       "      <td>0500000US17181</td>\n",
       "      <td>17181</td>\n",
       "      <td>Union</td>\n",
       "      <td>06</td>\n",
       "      <td>1070856127</td>\n",
       "      <td>22502069</td>\n",
       "      <td>POLYGON ((-89.52173 37.56621, -89.52157 37.570...</td>\n",
       "      <td>2</td>\n",
       "      <td></td>\n",
       "    </tr>\n",
       "    <tr>\n",
       "      <th>79</th>\n",
       "      <td>17</td>\n",
       "      <td>173</td>\n",
       "      <td>01785051</td>\n",
       "      <td>0500000US17173</td>\n",
       "      <td>17173</td>\n",
       "      <td>Shelby</td>\n",
       "      <td>06</td>\n",
       "      <td>1964543080</td>\n",
       "      <td>24746071</td>\n",
       "      <td>POLYGON ((-89.13981 39.34889, -89.02545 39.346...</td>\n",
       "      <td>1</td>\n",
       "      <td></td>\n",
       "    </tr>\n",
       "  </tbody>\n",
       "</table>\n",
       "<p>80 rows × 12 columns</p>\n",
       "</div>"
      ],
      "text/plain": [
       "   STATEFP COUNTYFP  COUNTYNS        AFFGEOID  GEOID     County LSAD  \\\n",
       "0       17      093  00424248  0500000US17093  17093    Kendall   06   \n",
       "1       17      049  00424226  0500000US17049  17049  Effingham   06   \n",
       "2       17      103  00424253  0500000US17103  17103        Lee   06   \n",
       "3       17      107  00424255  0500000US17107  17107      Logan   06   \n",
       "4       17      115  00424256  0500000US17115  17115      Macon   06   \n",
       "..     ...      ...       ...             ...    ...        ...  ...   \n",
       "75      17      195  01785167  0500000US17195  17195  Whiteside   06   \n",
       "76      17      025  00424214  0500000US17025  17025       Clay   06   \n",
       "77      17      147  00424275  0500000US17147  17147      Piatt   06   \n",
       "78      17      181  01785113  0500000US17181  17181      Union   06   \n",
       "79      17      173  01785051  0500000US17173  17173     Shelby   06   \n",
       "\n",
       "         ALAND    AWATER                                           geometry  \\\n",
       "0    829468028   5136619  POLYGON ((-88.60349 41.71358, -88.60193 41.719...   \n",
       "1   1239970330   3183217  POLYGON ((-88.80532 39.21626, -88.47091 39.215...   \n",
       "2   1877336056  10634483  POLYGON ((-89.63147 41.75813, -89.63026 41.843...   \n",
       "3   1600795502   2252736  POLYGON ((-89.60298 40.32013, -89.26374 40.325...   \n",
       "4   1503684098  13406667  POLYGON ((-89.21785 39.91699, -89.14345 39.917...   \n",
       "..         ...       ...                                                ...   \n",
       "75  1772158753  31836569  POLYGON ((-90.23677 41.76260, -90.24717 41.762...   \n",
       "76  1212815749   3271820  POLYGON ((-88.69517 38.82630, -88.69353 38.914...   \n",
       "77  1137399517    755574  POLYGON ((-88.74516 40.05519, -88.74534 40.098...   \n",
       "78  1070856127  22502069  POLYGON ((-89.52173 37.56621, -89.52157 37.570...   \n",
       "79  1964543080  24746071  POLYGON ((-89.13981 39.34889, -89.02545 39.346...   \n",
       "\n",
       "    Original Address Counties_Split  \n",
       "0                 11                 \n",
       "1                  3                 \n",
       "2                  1                 \n",
       "3                  2                 \n",
       "4                 14                 \n",
       "..               ...            ...  \n",
       "75                 2                 \n",
       "76                 1                 \n",
       "77                 2                 \n",
       "78                 2                 \n",
       "79                 1                 \n",
       "\n",
       "[80 rows x 12 columns]"
      ]
     },
     "execution_count": 26,
     "metadata": {},
     "output_type": "execute_result"
    }
   ],
   "source": [
    "# Merge illinois_groupby dataframe with shape_data dataframe\n",
    "shape_data_full = shape_data.merge(illinois_groupby, on=\"County\")\n",
    "shape_data_full"
   ]
  },
  {
   "cell_type": "code",
   "execution_count": 45,
   "id": "3488401d-617f-44bf-8d63-4fc64b68e479",
   "metadata": {
    "tags": []
   },
   "outputs": [
    {
     "data": {
      "text/plain": [
       "<Axes: >"
      ]
     },
     "execution_count": 45,
     "metadata": {},
     "output_type": "execute_result"
    },
    {
     "data": {
      "image/png": "[encoded data removed]",
      "text/plain": [
       "<Figure size 640x480 with 2 Axes>"
      ]
     },
     "metadata": {},
     "output_type": "display_data"
    }
   ],
   "source": [
    "shape_data_full.plot(column='Original Address',legend=True)"
   ]
  },
  {
   "cell_type": "code",
   "execution_count": 38,
   "id": "68a03675-a335-43c6-9e62-0777279ca3e3",
   "metadata": {
    "tags": []
   },
   "outputs": [
    {
     "data": {
      "text/plain": [
       "<Axes: >"
      ]
     },
     "execution_count": 38,
     "metadata": {},
     "output_type": "execute_result"
    },
    {
     "data": {
      "image/png": "[encoded data removed]",
      "text/plain": [
       "<Figure size 1000x1000 with 2 Axes>"
      ]
     },
     "metadata": {},
     "output_type": "display_data"
    }
   ],
   "source": [
    "fig, ax = plt.subplots(figsize=(10, 10))\n",
    "shape_data_full.plot(ax=ax,column='Original Address',legend=True)"
   ]
  },
  {
   "cell_type": "code",
   "execution_count": 42,
   "id": "8a6c6f26-8d38-4f6b-b820-dd0b0cf0af08",
   "metadata": {
    "tags": []
   },
   "outputs": [
    {
     "data": {
      "image/png": "[encoded data removed]",
      "text/plain": [
       "<Figure size 640x480 with 2 Axes>"
      ]
     },
     "metadata": {},
     "output_type": "display_data"
    }
   ],
   "source": [
    "# to remove the box\n",
    "\n",
    "ax = shape_data_full.plot(column='Original Address',legend=True)\n",
    "ax.set_axis_off()\n"
   ]
  },
  {
   "cell_type": "code",
   "execution_count": 44,
   "id": "39511fe6-6b8b-4899-8c82-ee00c7976f8d",
   "metadata": {
    "tags": []
   },
   "outputs": [
    {
     "data": {
      "text/plain": [
       "<Axes: >"
      ]
     },
     "execution_count": 44,
     "metadata": {},
     "output_type": "execute_result"
    },
    {
     "data": {
      "image/png": "[encoded data removed]",
      "text/plain": [
       "<Figure size 640x480 with 1 Axes>"
      ]
     },
     "metadata": {},
     "output_type": "display_data"
    }
   ],
   "source": [
    "shape_data_full.plot(column='Original Address',  cmap='winter')"
   ]
  },
  {
   "cell_type": "code",
   "execution_count": 45,
   "id": "5826eabf-c784-4def-8cd6-d03a35bf22dd",
   "metadata": {},
   "outputs": [
    {
     "ename": "ModuleNotFoundError",
     "evalue": "No module named 'geoviews'",
     "output_type": "error",
     "traceback": [
      "\u001b[0;31m---------------------------------------------------------------------------\u001b[0m",
      "\u001b[0;31mModuleNotFoundError\u001b[0m                       Traceback (most recent call last)",
      "Cell \u001b[0;32mIn[45], line 3\u001b[0m\n\u001b[1;32m      1\u001b[0m \u001b[38;5;66;03m#How to plot interactive maps where something is plotted\u001b[39;00m\n\u001b[0;32m----> 3\u001b[0m \u001b[38;5;28;01mimport\u001b[39;00m \u001b[38;5;21;01mgeoviews\u001b[39;00m\n\u001b[1;32m      4\u001b[0m geoviews\u001b[38;5;241m.\u001b[39mextension(\u001b[38;5;124m\"\u001b[39m\u001b[38;5;124mbokeh\u001b[39m\u001b[38;5;124m\"\u001b[39m)\n\u001b[1;32m      6\u001b[0m \u001b[38;5;66;03m#price is variable of interest\u001b[39;00m\n",
      "\u001b[0;31mModuleNotFoundError\u001b[0m: No module named 'geoviews'"
     ]
    }
   ],
   "source": [
    "#How to plot interactive maps where something is plotted\n",
    "\n",
    "import geoviews\n",
    "geoviews.extension(\"bokeh\")\n",
    "\n",
    "#price is variable of interest\n",
    "\n",
    "choropleth = geoviews.Polygons(data=shape_data_full, vdims=[\"Original Address\",\"GEOID\"])\n",
    "\n",
    "choropleth.opts(height=600, width=900, title=\"NYC Airbnb Price\",\n",
    "                tools=[\"hover\"], cmap=\"Greens\", colorbar=True, colorbar_position=\"bottom\")"
   ]
  },
  {
   "cell_type": "code",
   "execution_count": null,
   "id": "652f0de3-3c06-4ba8-9553-bff953ff1844",
   "metadata": {},
   "outputs": [],
   "source": []
  }
 ],
 "metadata": {
  "kernelspec": {
   "display_name": "Python 3 (ipykernel)",
   "language": "python",
   "name": "python3"
  },
  "language_info": {
   "codemirror_mode": {
    "name": "ipython",
    "version": 3
   },
   "file_extension": ".py",
   "mimetype": "text/x-python",
   "name": "python",
   "nbconvert_exporter": "python",
   "pygments_lexer": "ipython3",
   "version": "3.9.7"
  }
 },
 "nbformat": 4,
 "nbformat_minor": 5
}
